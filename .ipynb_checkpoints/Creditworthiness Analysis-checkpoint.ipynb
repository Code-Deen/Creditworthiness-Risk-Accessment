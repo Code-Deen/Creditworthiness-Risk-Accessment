{
 "cells": [
  {
   "cell_type": "markdown",
   "id": "7549f717-72fc-4855-93f3-86545adec0d7",
   "metadata": {},
   "source": [
    "# Risk Assessment and Creditworthiness App\n",
    "\n"
   ]
  },
  {
   "cell_type": "markdown",
   "id": "26aef6ac-a2e7-4b24-bad6-a527238e78a1",
   "metadata": {},
   "source": [
    "Import the necessary Libraries"
   ]
  },
  {
   "cell_type": "code",
   "execution_count": 2,
   "id": "773f8b8b-5d1a-4b00-be32-f45fed3b72fa",
   "metadata": {},
   "outputs": [],
   "source": [
    "import pandas as pd\n",
    "import numpy as np\n",
    "import matplotlib.pyplot as plt\n",
    "import seaborn as sns\n",
    "\n",
    "\n",
    "from sklearn import preprocessing\n",
    "from sklearn.model_selection import train_test_split\n",
    "from sklearn.preprocessing import StandardScaler\n",
    "from sklearn.linear_model import LogisticRegression\n",
    "from sklearn.metrics import mean_squared_error, mean_absolute_error, accuracy_score, precision_score, classification_report, recall_score, f1_score, roc_auc_score, auc\n"
   ]
  },
  {
   "cell_type": "markdown",
   "id": "8ac52a0f-baf4-4716-8fc6-2e95161d41df",
   "metadata": {},
   "source": [
    "To prevent the warning error from showing"
   ]
  },
  {
   "cell_type": "code",
   "execution_count": 3,
   "id": "560df73f-4393-402d-b563-4ee836be00b3",
   "metadata": {},
   "outputs": [],
   "source": [
    "import warnings\n",
    "warnings.filterwarnings('ignore')"
   ]
  },
  {
   "cell_type": "markdown",
   "id": "0129e8d7-a9c4-462e-8c8e-f0150917c59d",
   "metadata": {},
   "source": [
    "# Explanation of the Dataset"
   ]
  },
  {
   "cell_type": "markdown",
   "id": "baeb1824-6b06-4260-a72d-5cfe140f722b",
   "metadata": {},
   "source": [
    "The definition of the variables are as follows;\n",
    "\n",
    "person_age: The age of the borrower when securing the loan.\n",
    "\n",
    "person_income: The borrower’s annual earnings at the time of the loan.\n",
    "\n",
    "person_home_ownership: Type of home ownership of the applicant;\n",
    "Rent: The borrower is currently renting a property.\n",
    "Mortgage: The borrower has a mortgage on the property they own.\n",
    "Own: The borrower owns a home outright.\n",
    "Other: Other categories of home ownership that may be specific to the dataset.\n",
    "\n",
    "person_emp_length: The amount of time in years that the borrower has been in employment.\n",
    "\n",
    "loan_intent: Loan purpose - what applicant (borrower) wants to use the loan for.\n",
    "\n",
    "loan_grade: A classification system based on credit history, collateral quality, and the likelihood of repayment of the principal and interest.\n",
    "A: The borrower has a high creditworthiness, indicating low risk.\n",
    "B: The borrower is relatively low-risk, but not as creditworthy as Grade A.\n",
    "C: The borrower’s creditworthiness is moderate.\n",
    "D: The borrower is considered to have a higher risk compared to previous grades.\n",
    "E: The borrower’s creditworthiness is lower, indicating a higher risk.\n",
    "F: The borrower poses a significant credit risk.\n",
    "G: The borrower’s creditworthiness is the lowest, signifying the highest risk.\n",
    "\n",
    "loan_amnt: Total amount of the loan applied for.\n",
    "\n",
    "loan_int_rate: The interest rate of the loan.\n",
    "\n",
    "loan_status: Target variable indicating Default as (1) or Non-default as (0). The loan_status variable is a crucial dependent variable. A default occurs when a borrower is unable to make timely payments, misses payments, or avoids or stops making payments on interest or principal owed;\n",
    "0: Non-default - The borrower successfully repaid the loan as agreed, and there was no default.\n",
    "1: Default - The borrower failed to repay the loan according to the agreed-upon terms and defaulted.\n",
    "\n",
    "loan_percent_income: Ratio between the loan amount and the annual income of borrower.\n",
    "\n",
    "cb_person_cred_hist_length: The number of years of personal history since the first loan was taken by the borrower.\n",
    "\n",
    "cb_person_default_on_file: Indicates if the person has previously defaulted.\n"
   ]
  },
  {
   "cell_type": "markdown",
   "id": "b304a1a3-7c75-4cfb-b8ff-9caa202d5ae6",
   "metadata": {},
   "source": [
    "# The DataFrame is referred to as \"dfrisk\""
   ]
  },
  {
   "cell_type": "code",
   "execution_count": 4,
   "id": "ebdff02c-2a21-4a0a-952f-da556c6cebc6",
   "metadata": {},
   "outputs": [
    {
     "data": {
      "text/html": [
       "<div>\n",
       "<style scoped>\n",
       "    .dataframe tbody tr th:only-of-type {\n",
       "        vertical-align: middle;\n",
       "    }\n",
       "\n",
       "    .dataframe tbody tr th {\n",
       "        vertical-align: top;\n",
       "    }\n",
       "\n",
       "    .dataframe thead th {\n",
       "        text-align: right;\n",
       "    }\n",
       "</style>\n",
       "<table border=\"1\" class=\"dataframe\">\n",
       "  <thead>\n",
       "    <tr style=\"text-align: right;\">\n",
       "      <th></th>\n",
       "      <th>person_age</th>\n",
       "      <th>person_income</th>\n",
       "      <th>person_home_ownership</th>\n",
       "      <th>person_emp_length</th>\n",
       "      <th>loan_intent</th>\n",
       "      <th>loan_grade</th>\n",
       "      <th>loan_amnt</th>\n",
       "      <th>loan_int_rate</th>\n",
       "      <th>loan_status</th>\n",
       "      <th>loan_percent_income</th>\n",
       "      <th>cb_person_default_on_file</th>\n",
       "      <th>cb_person_cred_hist_length</th>\n",
       "    </tr>\n",
       "  </thead>\n",
       "  <tbody>\n",
       "    <tr>\n",
       "      <th>0</th>\n",
       "      <td>22</td>\n",
       "      <td>59000</td>\n",
       "      <td>RENT</td>\n",
       "      <td>123.0</td>\n",
       "      <td>PERSONAL</td>\n",
       "      <td>D</td>\n",
       "      <td>35000</td>\n",
       "      <td>16.02</td>\n",
       "      <td>1</td>\n",
       "      <td>0.59</td>\n",
       "      <td>Y</td>\n",
       "      <td>3</td>\n",
       "    </tr>\n",
       "    <tr>\n",
       "      <th>1</th>\n",
       "      <td>21</td>\n",
       "      <td>9600</td>\n",
       "      <td>OWN</td>\n",
       "      <td>5.0</td>\n",
       "      <td>EDUCATION</td>\n",
       "      <td>B</td>\n",
       "      <td>1000</td>\n",
       "      <td>11.14</td>\n",
       "      <td>0</td>\n",
       "      <td>0.10</td>\n",
       "      <td>N</td>\n",
       "      <td>2</td>\n",
       "    </tr>\n",
       "    <tr>\n",
       "      <th>2</th>\n",
       "      <td>25</td>\n",
       "      <td>9600</td>\n",
       "      <td>MORTGAGE</td>\n",
       "      <td>1.0</td>\n",
       "      <td>MEDICAL</td>\n",
       "      <td>C</td>\n",
       "      <td>5500</td>\n",
       "      <td>12.87</td>\n",
       "      <td>1</td>\n",
       "      <td>0.57</td>\n",
       "      <td>N</td>\n",
       "      <td>3</td>\n",
       "    </tr>\n",
       "    <tr>\n",
       "      <th>3</th>\n",
       "      <td>23</td>\n",
       "      <td>65500</td>\n",
       "      <td>RENT</td>\n",
       "      <td>4.0</td>\n",
       "      <td>MEDICAL</td>\n",
       "      <td>C</td>\n",
       "      <td>35000</td>\n",
       "      <td>15.23</td>\n",
       "      <td>1</td>\n",
       "      <td>0.53</td>\n",
       "      <td>N</td>\n",
       "      <td>2</td>\n",
       "    </tr>\n",
       "    <tr>\n",
       "      <th>4</th>\n",
       "      <td>24</td>\n",
       "      <td>54400</td>\n",
       "      <td>RENT</td>\n",
       "      <td>8.0</td>\n",
       "      <td>MEDICAL</td>\n",
       "      <td>C</td>\n",
       "      <td>35000</td>\n",
       "      <td>14.27</td>\n",
       "      <td>1</td>\n",
       "      <td>0.55</td>\n",
       "      <td>Y</td>\n",
       "      <td>4</td>\n",
       "    </tr>\n",
       "    <tr>\n",
       "      <th>...</th>\n",
       "      <td>...</td>\n",
       "      <td>...</td>\n",
       "      <td>...</td>\n",
       "      <td>...</td>\n",
       "      <td>...</td>\n",
       "      <td>...</td>\n",
       "      <td>...</td>\n",
       "      <td>...</td>\n",
       "      <td>...</td>\n",
       "      <td>...</td>\n",
       "      <td>...</td>\n",
       "      <td>...</td>\n",
       "    </tr>\n",
       "    <tr>\n",
       "      <th>32576</th>\n",
       "      <td>57</td>\n",
       "      <td>53000</td>\n",
       "      <td>MORTGAGE</td>\n",
       "      <td>1.0</td>\n",
       "      <td>PERSONAL</td>\n",
       "      <td>C</td>\n",
       "      <td>5800</td>\n",
       "      <td>13.16</td>\n",
       "      <td>0</td>\n",
       "      <td>0.11</td>\n",
       "      <td>N</td>\n",
       "      <td>30</td>\n",
       "    </tr>\n",
       "    <tr>\n",
       "      <th>32577</th>\n",
       "      <td>54</td>\n",
       "      <td>120000</td>\n",
       "      <td>MORTGAGE</td>\n",
       "      <td>4.0</td>\n",
       "      <td>PERSONAL</td>\n",
       "      <td>A</td>\n",
       "      <td>17625</td>\n",
       "      <td>7.49</td>\n",
       "      <td>0</td>\n",
       "      <td>0.15</td>\n",
       "      <td>N</td>\n",
       "      <td>19</td>\n",
       "    </tr>\n",
       "    <tr>\n",
       "      <th>32578</th>\n",
       "      <td>65</td>\n",
       "      <td>76000</td>\n",
       "      <td>RENT</td>\n",
       "      <td>3.0</td>\n",
       "      <td>HOMEIMPROVEMENT</td>\n",
       "      <td>B</td>\n",
       "      <td>35000</td>\n",
       "      <td>10.99</td>\n",
       "      <td>1</td>\n",
       "      <td>0.46</td>\n",
       "      <td>N</td>\n",
       "      <td>28</td>\n",
       "    </tr>\n",
       "    <tr>\n",
       "      <th>32579</th>\n",
       "      <td>56</td>\n",
       "      <td>150000</td>\n",
       "      <td>MORTGAGE</td>\n",
       "      <td>5.0</td>\n",
       "      <td>PERSONAL</td>\n",
       "      <td>B</td>\n",
       "      <td>15000</td>\n",
       "      <td>11.48</td>\n",
       "      <td>0</td>\n",
       "      <td>0.10</td>\n",
       "      <td>N</td>\n",
       "      <td>26</td>\n",
       "    </tr>\n",
       "    <tr>\n",
       "      <th>32580</th>\n",
       "      <td>66</td>\n",
       "      <td>42000</td>\n",
       "      <td>RENT</td>\n",
       "      <td>2.0</td>\n",
       "      <td>MEDICAL</td>\n",
       "      <td>B</td>\n",
       "      <td>6475</td>\n",
       "      <td>9.99</td>\n",
       "      <td>0</td>\n",
       "      <td>0.15</td>\n",
       "      <td>N</td>\n",
       "      <td>30</td>\n",
       "    </tr>\n",
       "  </tbody>\n",
       "</table>\n",
       "<p>32581 rows × 12 columns</p>\n",
       "</div>"
      ],
      "text/plain": [
       "       person_age  person_income person_home_ownership  person_emp_length  \\\n",
       "0              22          59000                  RENT              123.0   \n",
       "1              21           9600                   OWN                5.0   \n",
       "2              25           9600              MORTGAGE                1.0   \n",
       "3              23          65500                  RENT                4.0   \n",
       "4              24          54400                  RENT                8.0   \n",
       "...           ...            ...                   ...                ...   \n",
       "32576          57          53000              MORTGAGE                1.0   \n",
       "32577          54         120000              MORTGAGE                4.0   \n",
       "32578          65          76000                  RENT                3.0   \n",
       "32579          56         150000              MORTGAGE                5.0   \n",
       "32580          66          42000                  RENT                2.0   \n",
       "\n",
       "           loan_intent loan_grade  loan_amnt  loan_int_rate  loan_status  \\\n",
       "0             PERSONAL          D      35000          16.02            1   \n",
       "1            EDUCATION          B       1000          11.14            0   \n",
       "2              MEDICAL          C       5500          12.87            1   \n",
       "3              MEDICAL          C      35000          15.23            1   \n",
       "4              MEDICAL          C      35000          14.27            1   \n",
       "...                ...        ...        ...            ...          ...   \n",
       "32576         PERSONAL          C       5800          13.16            0   \n",
       "32577         PERSONAL          A      17625           7.49            0   \n",
       "32578  HOMEIMPROVEMENT          B      35000          10.99            1   \n",
       "32579         PERSONAL          B      15000          11.48            0   \n",
       "32580          MEDICAL          B       6475           9.99            0   \n",
       "\n",
       "       loan_percent_income cb_person_default_on_file  \\\n",
       "0                     0.59                         Y   \n",
       "1                     0.10                         N   \n",
       "2                     0.57                         N   \n",
       "3                     0.53                         N   \n",
       "4                     0.55                         Y   \n",
       "...                    ...                       ...   \n",
       "32576                 0.11                         N   \n",
       "32577                 0.15                         N   \n",
       "32578                 0.46                         N   \n",
       "32579                 0.10                         N   \n",
       "32580                 0.15                         N   \n",
       "\n",
       "       cb_person_cred_hist_length  \n",
       "0                               3  \n",
       "1                               2  \n",
       "2                               3  \n",
       "3                               2  \n",
       "4                               4  \n",
       "...                           ...  \n",
       "32576                          30  \n",
       "32577                          19  \n",
       "32578                          28  \n",
       "32579                          26  \n",
       "32580                          30  \n",
       "\n",
       "[32581 rows x 12 columns]"
      ]
     },
     "execution_count": 4,
     "metadata": {},
     "output_type": "execute_result"
    }
   ],
   "source": [
    "dfrisk = pd.read_csv('C:/Users/PC/Documents/sola/others/Telegram Desktop/credit_risk_dataset.csv')\n",
    "dfrisk"
   ]
  },
  {
   "cell_type": "code",
   "execution_count": 5,
   "id": "7bb41b53-7742-4612-9adf-70851d00ed47",
   "metadata": {},
   "outputs": [
    {
     "data": {
      "text/html": [
       "<div>\n",
       "<style scoped>\n",
       "    .dataframe tbody tr th:only-of-type {\n",
       "        vertical-align: middle;\n",
       "    }\n",
       "\n",
       "    .dataframe tbody tr th {\n",
       "        vertical-align: top;\n",
       "    }\n",
       "\n",
       "    .dataframe thead th {\n",
       "        text-align: right;\n",
       "    }\n",
       "</style>\n",
       "<table border=\"1\" class=\"dataframe\">\n",
       "  <thead>\n",
       "    <tr style=\"text-align: right;\">\n",
       "      <th></th>\n",
       "      <th>person_age</th>\n",
       "      <th>person_income</th>\n",
       "      <th>person_emp_length</th>\n",
       "      <th>loan_amnt</th>\n",
       "      <th>loan_int_rate</th>\n",
       "      <th>loan_status</th>\n",
       "      <th>loan_percent_income</th>\n",
       "      <th>cb_person_cred_hist_length</th>\n",
       "    </tr>\n",
       "  </thead>\n",
       "  <tbody>\n",
       "    <tr>\n",
       "      <th>count</th>\n",
       "      <td>32581.000000</td>\n",
       "      <td>3.258100e+04</td>\n",
       "      <td>31686.000000</td>\n",
       "      <td>32581.000000</td>\n",
       "      <td>29465.000000</td>\n",
       "      <td>32581.000000</td>\n",
       "      <td>32581.000000</td>\n",
       "      <td>32581.000000</td>\n",
       "    </tr>\n",
       "    <tr>\n",
       "      <th>mean</th>\n",
       "      <td>27.734600</td>\n",
       "      <td>6.607485e+04</td>\n",
       "      <td>4.789686</td>\n",
       "      <td>9589.371106</td>\n",
       "      <td>11.011695</td>\n",
       "      <td>0.218164</td>\n",
       "      <td>0.170203</td>\n",
       "      <td>5.804211</td>\n",
       "    </tr>\n",
       "    <tr>\n",
       "      <th>std</th>\n",
       "      <td>6.348078</td>\n",
       "      <td>6.198312e+04</td>\n",
       "      <td>4.142630</td>\n",
       "      <td>6322.086646</td>\n",
       "      <td>3.240459</td>\n",
       "      <td>0.413006</td>\n",
       "      <td>0.106782</td>\n",
       "      <td>4.055001</td>\n",
       "    </tr>\n",
       "    <tr>\n",
       "      <th>min</th>\n",
       "      <td>20.000000</td>\n",
       "      <td>4.000000e+03</td>\n",
       "      <td>0.000000</td>\n",
       "      <td>500.000000</td>\n",
       "      <td>5.420000</td>\n",
       "      <td>0.000000</td>\n",
       "      <td>0.000000</td>\n",
       "      <td>2.000000</td>\n",
       "    </tr>\n",
       "    <tr>\n",
       "      <th>25%</th>\n",
       "      <td>23.000000</td>\n",
       "      <td>3.850000e+04</td>\n",
       "      <td>2.000000</td>\n",
       "      <td>5000.000000</td>\n",
       "      <td>7.900000</td>\n",
       "      <td>0.000000</td>\n",
       "      <td>0.090000</td>\n",
       "      <td>3.000000</td>\n",
       "    </tr>\n",
       "    <tr>\n",
       "      <th>50%</th>\n",
       "      <td>26.000000</td>\n",
       "      <td>5.500000e+04</td>\n",
       "      <td>4.000000</td>\n",
       "      <td>8000.000000</td>\n",
       "      <td>10.990000</td>\n",
       "      <td>0.000000</td>\n",
       "      <td>0.150000</td>\n",
       "      <td>4.000000</td>\n",
       "    </tr>\n",
       "    <tr>\n",
       "      <th>75%</th>\n",
       "      <td>30.000000</td>\n",
       "      <td>7.920000e+04</td>\n",
       "      <td>7.000000</td>\n",
       "      <td>12200.000000</td>\n",
       "      <td>13.470000</td>\n",
       "      <td>0.000000</td>\n",
       "      <td>0.230000</td>\n",
       "      <td>8.000000</td>\n",
       "    </tr>\n",
       "    <tr>\n",
       "      <th>max</th>\n",
       "      <td>144.000000</td>\n",
       "      <td>6.000000e+06</td>\n",
       "      <td>123.000000</td>\n",
       "      <td>35000.000000</td>\n",
       "      <td>23.220000</td>\n",
       "      <td>1.000000</td>\n",
       "      <td>0.830000</td>\n",
       "      <td>30.000000</td>\n",
       "    </tr>\n",
       "  </tbody>\n",
       "</table>\n",
       "</div>"
      ],
      "text/plain": [
       "         person_age  person_income  person_emp_length     loan_amnt  \\\n",
       "count  32581.000000   3.258100e+04       31686.000000  32581.000000   \n",
       "mean      27.734600   6.607485e+04           4.789686   9589.371106   \n",
       "std        6.348078   6.198312e+04           4.142630   6322.086646   \n",
       "min       20.000000   4.000000e+03           0.000000    500.000000   \n",
       "25%       23.000000   3.850000e+04           2.000000   5000.000000   \n",
       "50%       26.000000   5.500000e+04           4.000000   8000.000000   \n",
       "75%       30.000000   7.920000e+04           7.000000  12200.000000   \n",
       "max      144.000000   6.000000e+06         123.000000  35000.000000   \n",
       "\n",
       "       loan_int_rate   loan_status  loan_percent_income  \\\n",
       "count   29465.000000  32581.000000         32581.000000   \n",
       "mean       11.011695      0.218164             0.170203   \n",
       "std         3.240459      0.413006             0.106782   \n",
       "min         5.420000      0.000000             0.000000   \n",
       "25%         7.900000      0.000000             0.090000   \n",
       "50%        10.990000      0.000000             0.150000   \n",
       "75%        13.470000      0.000000             0.230000   \n",
       "max        23.220000      1.000000             0.830000   \n",
       "\n",
       "       cb_person_cred_hist_length  \n",
       "count                32581.000000  \n",
       "mean                     5.804211  \n",
       "std                      4.055001  \n",
       "min                      2.000000  \n",
       "25%                      3.000000  \n",
       "50%                      4.000000  \n",
       "75%                      8.000000  \n",
       "max                     30.000000  "
      ]
     },
     "execution_count": 5,
     "metadata": {},
     "output_type": "execute_result"
    }
   ],
   "source": [
    "dfrisk.describe()"
   ]
  },
  {
   "cell_type": "markdown",
   "id": "0dd0cd32-f030-404b-bd67-589f1d129377",
   "metadata": {},
   "source": [
    "Capture the data types of each column"
   ]
  },
  {
   "cell_type": "code",
   "execution_count": 6,
   "id": "2f273fc5-4b6f-4515-864d-bf63f0471b36",
   "metadata": {},
   "outputs": [
    {
     "data": {
      "text/plain": [
       "person_age                      int64\n",
       "person_income                   int64\n",
       "person_home_ownership          object\n",
       "person_emp_length             float64\n",
       "loan_intent                    object\n",
       "loan_grade                     object\n",
       "loan_amnt                       int64\n",
       "loan_int_rate                 float64\n",
       "loan_status                     int64\n",
       "loan_percent_income           float64\n",
       "cb_person_default_on_file      object\n",
       "cb_person_cred_hist_length      int64\n",
       "dtype: object"
      ]
     },
     "execution_count": 6,
     "metadata": {},
     "output_type": "execute_result"
    }
   ],
   "source": [
    "dfrisk.dtypes"
   ]
  },
  {
   "cell_type": "markdown",
   "id": "38c6d95d-b63b-4cb3-b231-261e2ca73ce3",
   "metadata": {},
   "source": [
    "# Preprocessing"
   ]
  },
  {
   "cell_type": "markdown",
   "id": "e0460859-893e-41a2-b144-1bff6226ceb3",
   "metadata": {},
   "source": [
    "Instead of making use of the encoder, we manually converted the categorical columns into Numerical columns"
   ]
  },
  {
   "cell_type": "markdown",
   "id": "a6f30a14-58e5-4397-af50-1768b4361136",
   "metadata": {},
   "source": [
    "categorical_columns ==>> 'person_home_ownership', 'loan_intent', 'loan_grade', 'cb_person_default_on_file'"
   ]
  },
  {
   "cell_type": "markdown",
   "id": "44d28030-e615-4138-9882-8343a88e970e",
   "metadata": {},
   "source": [
    "Column >> 'person_home_ownership'"
   ]
  },
  {
   "cell_type": "code",
   "execution_count": 7,
   "id": "6cb0099d-70b0-4f13-9ebb-bfcc58f52ebd",
   "metadata": {},
   "outputs": [],
   "source": [
    "dfrisk['person_home_ownership'].replace('RENT',0,inplace=True)\n",
    "dfrisk['person_home_ownership'].replace('OWN',1,inplace=True)\n",
    "dfrisk['person_home_ownership'].replace('MORTGAGE',2,inplace=True)\n",
    "dfrisk['person_home_ownership'].replace('OTHER',3,inplace=True)"
   ]
  },
  {
   "cell_type": "code",
   "execution_count": 8,
   "id": "22cba237-37bc-4ec4-a860-34443e8c22ca",
   "metadata": {},
   "outputs": [
    {
     "data": {
      "text/plain": [
       "person_home_ownership\n",
       "0    16446\n",
       "2    13444\n",
       "1     2584\n",
       "3      107\n",
       "Name: count, dtype: int64"
      ]
     },
     "execution_count": 8,
     "metadata": {},
     "output_type": "execute_result"
    }
   ],
   "source": [
    "dfrisk['person_home_ownership'].value_counts()"
   ]
  },
  {
   "cell_type": "markdown",
   "id": "6130bda5-f846-498a-81dd-cf7ca5753a31",
   "metadata": {},
   "source": [
    "Column >> 'loan_intent'"
   ]
  },
  {
   "cell_type": "code",
   "execution_count": 9,
   "id": "fb191cf7-85fb-484e-8786-8e58af2809e1",
   "metadata": {},
   "outputs": [],
   "source": [
    "dfrisk['loan_intent'].replace('PERSONAL',0,inplace=True)\n",
    "dfrisk['loan_intent'].replace('EDUCATION',1,inplace=True)\n",
    "dfrisk['loan_intent'].replace('MEDICAL',2,inplace=True)\n",
    "dfrisk['loan_intent'].replace('VENTURE',3,inplace=True)\n",
    "dfrisk['loan_intent'].replace('HOMEIMPROVEMENT',4,inplace=True)\n",
    "dfrisk['loan_intent'].replace('DEBTCONSOLIDATION',5,inplace=True)"
   ]
  },
  {
   "cell_type": "code",
   "execution_count": 10,
   "id": "6e703951-5ef3-46f2-b496-ea9a958da07b",
   "metadata": {},
   "outputs": [
    {
     "data": {
      "text/plain": [
       "loan_intent\n",
       "1    6453\n",
       "2    6071\n",
       "3    5719\n",
       "0    5521\n",
       "5    5212\n",
       "4    3605\n",
       "Name: count, dtype: int64"
      ]
     },
     "execution_count": 10,
     "metadata": {},
     "output_type": "execute_result"
    }
   ],
   "source": [
    "dfrisk['loan_intent'].value_counts()"
   ]
  },
  {
   "cell_type": "markdown",
   "id": "c06bf9e1-7a2d-4be4-b79b-eedd28fc8077",
   "metadata": {},
   "source": [
    "Column >> 'loan_grade'"
   ]
  },
  {
   "cell_type": "code",
   "execution_count": 11,
   "id": "97577179-97c2-4208-b59a-8b3a2e3ef98e",
   "metadata": {},
   "outputs": [],
   "source": [
    "dfrisk['loan_grade'].replace('A',0,inplace=True)\n",
    "dfrisk['loan_grade'].replace('B',1,inplace=True)\n",
    "dfrisk['loan_grade'].replace('C',2,inplace=True)\n",
    "dfrisk['loan_grade'].replace('D',3,inplace=True)\n",
    "dfrisk['loan_grade'].replace('E',4,inplace=True)\n",
    "dfrisk['loan_grade'].replace('F',5,inplace=True)\n",
    "dfrisk['loan_grade'].replace('G',6,inplace=True)"
   ]
  },
  {
   "cell_type": "code",
   "execution_count": 12,
   "id": "63b39cc0-7749-4632-99eb-edc05d427392",
   "metadata": {},
   "outputs": [
    {
     "data": {
      "text/plain": [
       "loan_grade\n",
       "0    10777\n",
       "1    10451\n",
       "2     6458\n",
       "3     3626\n",
       "4      964\n",
       "5      241\n",
       "6       64\n",
       "Name: count, dtype: int64"
      ]
     },
     "execution_count": 12,
     "metadata": {},
     "output_type": "execute_result"
    }
   ],
   "source": [
    "dfrisk['loan_grade'].value_counts()"
   ]
  },
  {
   "cell_type": "markdown",
   "id": "83f5782c-efc3-42cb-83af-0b8c8b52493b",
   "metadata": {},
   "source": [
    "Column >> 'cb_person_default_on_file'"
   ]
  },
  {
   "cell_type": "code",
   "execution_count": 13,
   "id": "9558f4c6-f7aa-4375-a5a4-98fc82fc0a82",
   "metadata": {},
   "outputs": [],
   "source": [
    "dfrisk['cb_person_default_on_file'].replace('Y',1,inplace=True)\n",
    "dfrisk['cb_person_default_on_file'].replace('N',0,inplace=True)"
   ]
  },
  {
   "cell_type": "code",
   "execution_count": 14,
   "id": "1672bb5c-8376-4f3c-9318-2aa8f8f4508a",
   "metadata": {},
   "outputs": [
    {
     "data": {
      "text/plain": [
       "cb_person_default_on_file\n",
       "0    26836\n",
       "1     5745\n",
       "Name: count, dtype: int64"
      ]
     },
     "execution_count": 14,
     "metadata": {},
     "output_type": "execute_result"
    }
   ],
   "source": [
    "dfrisk['cb_person_default_on_file'].value_counts()"
   ]
  },
  {
   "cell_type": "markdown",
   "id": "8f042c26-7c8a-4d79-ade9-96dfaa038941",
   "metadata": {},
   "source": [
    "Generate the unique values of the converted categorical columns to confirm correctness"
   ]
  },
  {
   "cell_type": "code",
   "execution_count": 15,
   "id": "45730f0f-834b-496e-a9c9-faa696116c2e",
   "metadata": {},
   "outputs": [
    {
     "data": {
      "text/plain": [
       "array([0, 1, 2, 3, 4, 5], dtype=int64)"
      ]
     },
     "execution_count": 15,
     "metadata": {},
     "output_type": "execute_result"
    }
   ],
   "source": [
    "dfrisk['loan_intent'].unique()"
   ]
  },
  {
   "cell_type": "code",
   "execution_count": 16,
   "id": "dcdadb35-8a59-4732-8d85-8a558c4ceed9",
   "metadata": {},
   "outputs": [
    {
     "data": {
      "text/plain": [
       "array([3, 1, 2, 0, 4, 5, 6], dtype=int64)"
      ]
     },
     "execution_count": 16,
     "metadata": {},
     "output_type": "execute_result"
    }
   ],
   "source": [
    "dfrisk['loan_grade'].unique()"
   ]
  },
  {
   "cell_type": "code",
   "execution_count": 17,
   "id": "9b78b716-c6d4-40bf-9fb5-a21f6ac28b9b",
   "metadata": {},
   "outputs": [
    {
     "data": {
      "text/plain": [
       "array([1, 0], dtype=int64)"
      ]
     },
     "execution_count": 17,
     "metadata": {},
     "output_type": "execute_result"
    }
   ],
   "source": [
    "dfrisk['cb_person_default_on_file'].unique()"
   ]
  },
  {
   "cell_type": "code",
   "execution_count": 18,
   "id": "fe17f678-1860-464e-bc83-0b77caad8203",
   "metadata": {},
   "outputs": [
    {
     "data": {
      "text/plain": [
       "array([0, 1, 2, 3], dtype=int64)"
      ]
     },
     "execution_count": 18,
     "metadata": {},
     "output_type": "execute_result"
    }
   ],
   "source": [
    "dfrisk['person_home_ownership'].unique()"
   ]
  },
  {
   "cell_type": "markdown",
   "id": "fbe52305-7a03-4993-98f2-545c5d9ffa5c",
   "metadata": {},
   "source": [
    "Another glance at dataset, in order to further Preprocess"
   ]
  },
  {
   "cell_type": "code",
   "execution_count": 19,
   "id": "25ffeabf-aafc-4bbe-9b59-c807ff13063c",
   "metadata": {},
   "outputs": [
    {
     "data": {
      "text/html": [
       "<div>\n",
       "<style scoped>\n",
       "    .dataframe tbody tr th:only-of-type {\n",
       "        vertical-align: middle;\n",
       "    }\n",
       "\n",
       "    .dataframe tbody tr th {\n",
       "        vertical-align: top;\n",
       "    }\n",
       "\n",
       "    .dataframe thead th {\n",
       "        text-align: right;\n",
       "    }\n",
       "</style>\n",
       "<table border=\"1\" class=\"dataframe\">\n",
       "  <thead>\n",
       "    <tr style=\"text-align: right;\">\n",
       "      <th></th>\n",
       "      <th>person_age</th>\n",
       "      <th>person_income</th>\n",
       "      <th>person_home_ownership</th>\n",
       "      <th>person_emp_length</th>\n",
       "      <th>loan_intent</th>\n",
       "      <th>loan_grade</th>\n",
       "      <th>loan_amnt</th>\n",
       "      <th>loan_int_rate</th>\n",
       "      <th>loan_status</th>\n",
       "      <th>loan_percent_income</th>\n",
       "      <th>cb_person_default_on_file</th>\n",
       "      <th>cb_person_cred_hist_length</th>\n",
       "    </tr>\n",
       "  </thead>\n",
       "  <tbody>\n",
       "    <tr>\n",
       "      <th>count</th>\n",
       "      <td>32581.000000</td>\n",
       "      <td>3.258100e+04</td>\n",
       "      <td>32581.000000</td>\n",
       "      <td>31686.000000</td>\n",
       "      <td>32581.000000</td>\n",
       "      <td>32581.000000</td>\n",
       "      <td>32581.000000</td>\n",
       "      <td>29465.000000</td>\n",
       "      <td>32581.000000</td>\n",
       "      <td>32581.000000</td>\n",
       "      <td>32581.000000</td>\n",
       "      <td>32581.000000</td>\n",
       "    </tr>\n",
       "    <tr>\n",
       "      <th>mean</th>\n",
       "      <td>27.734600</td>\n",
       "      <td>6.607485e+04</td>\n",
       "      <td>0.914429</td>\n",
       "      <td>4.789686</td>\n",
       "      <td>2.339769</td>\n",
       "      <td>1.218195</td>\n",
       "      <td>9589.371106</td>\n",
       "      <td>11.011695</td>\n",
       "      <td>0.218164</td>\n",
       "      <td>0.170203</td>\n",
       "      <td>0.176330</td>\n",
       "      <td>5.804211</td>\n",
       "    </tr>\n",
       "    <tr>\n",
       "      <th>std</th>\n",
       "      <td>6.348078</td>\n",
       "      <td>6.198312e+04</td>\n",
       "      <td>0.960858</td>\n",
       "      <td>4.142630</td>\n",
       "      <td>1.678803</td>\n",
       "      <td>1.166336</td>\n",
       "      <td>6322.086646</td>\n",
       "      <td>3.240459</td>\n",
       "      <td>0.413006</td>\n",
       "      <td>0.106782</td>\n",
       "      <td>0.381106</td>\n",
       "      <td>4.055001</td>\n",
       "    </tr>\n",
       "    <tr>\n",
       "      <th>min</th>\n",
       "      <td>20.000000</td>\n",
       "      <td>4.000000e+03</td>\n",
       "      <td>0.000000</td>\n",
       "      <td>0.000000</td>\n",
       "      <td>0.000000</td>\n",
       "      <td>0.000000</td>\n",
       "      <td>500.000000</td>\n",
       "      <td>5.420000</td>\n",
       "      <td>0.000000</td>\n",
       "      <td>0.000000</td>\n",
       "      <td>0.000000</td>\n",
       "      <td>2.000000</td>\n",
       "    </tr>\n",
       "    <tr>\n",
       "      <th>25%</th>\n",
       "      <td>23.000000</td>\n",
       "      <td>3.850000e+04</td>\n",
       "      <td>0.000000</td>\n",
       "      <td>2.000000</td>\n",
       "      <td>1.000000</td>\n",
       "      <td>0.000000</td>\n",
       "      <td>5000.000000</td>\n",
       "      <td>7.900000</td>\n",
       "      <td>0.000000</td>\n",
       "      <td>0.090000</td>\n",
       "      <td>0.000000</td>\n",
       "      <td>3.000000</td>\n",
       "    </tr>\n",
       "    <tr>\n",
       "      <th>50%</th>\n",
       "      <td>26.000000</td>\n",
       "      <td>5.500000e+04</td>\n",
       "      <td>0.000000</td>\n",
       "      <td>4.000000</td>\n",
       "      <td>2.000000</td>\n",
       "      <td>1.000000</td>\n",
       "      <td>8000.000000</td>\n",
       "      <td>10.990000</td>\n",
       "      <td>0.000000</td>\n",
       "      <td>0.150000</td>\n",
       "      <td>0.000000</td>\n",
       "      <td>4.000000</td>\n",
       "    </tr>\n",
       "    <tr>\n",
       "      <th>75%</th>\n",
       "      <td>30.000000</td>\n",
       "      <td>7.920000e+04</td>\n",
       "      <td>2.000000</td>\n",
       "      <td>7.000000</td>\n",
       "      <td>4.000000</td>\n",
       "      <td>2.000000</td>\n",
       "      <td>12200.000000</td>\n",
       "      <td>13.470000</td>\n",
       "      <td>0.000000</td>\n",
       "      <td>0.230000</td>\n",
       "      <td>0.000000</td>\n",
       "      <td>8.000000</td>\n",
       "    </tr>\n",
       "    <tr>\n",
       "      <th>max</th>\n",
       "      <td>144.000000</td>\n",
       "      <td>6.000000e+06</td>\n",
       "      <td>3.000000</td>\n",
       "      <td>123.000000</td>\n",
       "      <td>5.000000</td>\n",
       "      <td>6.000000</td>\n",
       "      <td>35000.000000</td>\n",
       "      <td>23.220000</td>\n",
       "      <td>1.000000</td>\n",
       "      <td>0.830000</td>\n",
       "      <td>1.000000</td>\n",
       "      <td>30.000000</td>\n",
       "    </tr>\n",
       "  </tbody>\n",
       "</table>\n",
       "</div>"
      ],
      "text/plain": [
       "         person_age  person_income  person_home_ownership  person_emp_length  \\\n",
       "count  32581.000000   3.258100e+04           32581.000000       31686.000000   \n",
       "mean      27.734600   6.607485e+04               0.914429           4.789686   \n",
       "std        6.348078   6.198312e+04               0.960858           4.142630   \n",
       "min       20.000000   4.000000e+03               0.000000           0.000000   \n",
       "25%       23.000000   3.850000e+04               0.000000           2.000000   \n",
       "50%       26.000000   5.500000e+04               0.000000           4.000000   \n",
       "75%       30.000000   7.920000e+04               2.000000           7.000000   \n",
       "max      144.000000   6.000000e+06               3.000000         123.000000   \n",
       "\n",
       "        loan_intent    loan_grade     loan_amnt  loan_int_rate   loan_status  \\\n",
       "count  32581.000000  32581.000000  32581.000000   29465.000000  32581.000000   \n",
       "mean       2.339769      1.218195   9589.371106      11.011695      0.218164   \n",
       "std        1.678803      1.166336   6322.086646       3.240459      0.413006   \n",
       "min        0.000000      0.000000    500.000000       5.420000      0.000000   \n",
       "25%        1.000000      0.000000   5000.000000       7.900000      0.000000   \n",
       "50%        2.000000      1.000000   8000.000000      10.990000      0.000000   \n",
       "75%        4.000000      2.000000  12200.000000      13.470000      0.000000   \n",
       "max        5.000000      6.000000  35000.000000      23.220000      1.000000   \n",
       "\n",
       "       loan_percent_income  cb_person_default_on_file  \\\n",
       "count         32581.000000               32581.000000   \n",
       "mean              0.170203                   0.176330   \n",
       "std               0.106782                   0.381106   \n",
       "min               0.000000                   0.000000   \n",
       "25%               0.090000                   0.000000   \n",
       "50%               0.150000                   0.000000   \n",
       "75%               0.230000                   0.000000   \n",
       "max               0.830000                   1.000000   \n",
       "\n",
       "       cb_person_cred_hist_length  \n",
       "count                32581.000000  \n",
       "mean                     5.804211  \n",
       "std                      4.055001  \n",
       "min                      2.000000  \n",
       "25%                      3.000000  \n",
       "50%                      4.000000  \n",
       "75%                      8.000000  \n",
       "max                     30.000000  "
      ]
     },
     "execution_count": 19,
     "metadata": {},
     "output_type": "execute_result"
    }
   ],
   "source": [
    "dfrisk.describe()"
   ]
  },
  {
   "cell_type": "markdown",
   "id": "28342ac8-7c25-4fd8-b4b5-1025e476f49b",
   "metadata": {},
   "source": [
    "Confirmation that all 4 categorical columns have been transformed into numerical..."
   ]
  },
  {
   "cell_type": "code",
   "execution_count": 20,
   "id": "dc8cf04f-4269-44d2-9327-7acd809b9bd2",
   "metadata": {},
   "outputs": [
    {
     "name": "stdout",
     "output_type": "stream",
     "text": [
      "person_age                      int64\n",
      "person_income                   int64\n",
      "person_home_ownership           int64\n",
      "person_emp_length             float64\n",
      "loan_intent                     int64\n",
      "loan_grade                      int64\n",
      "loan_amnt                       int64\n",
      "loan_int_rate                 float64\n",
      "loan_status                     int64\n",
      "loan_percent_income           float64\n",
      "cb_person_default_on_file       int64\n",
      "cb_person_cred_hist_length      int64\n",
      "dtype: object\n"
     ]
    }
   ],
   "source": [
    "print(dfrisk.dtypes)"
   ]
  },
  {
   "cell_type": "markdown",
   "id": "324d6b74-4018-4b4e-9283-1c2fe7360eb9",
   "metadata": {},
   "source": [
    "Checking the number of NaN values per column"
   ]
  },
  {
   "cell_type": "code",
   "execution_count": 21,
   "id": "12a84688-3df7-41a2-82c7-3cadc7806878",
   "metadata": {},
   "outputs": [
    {
     "data": {
      "text/plain": [
       "person_age                       0\n",
       "person_income                    0\n",
       "person_home_ownership            0\n",
       "person_emp_length              895\n",
       "loan_intent                      0\n",
       "loan_grade                       0\n",
       "loan_amnt                        0\n",
       "loan_int_rate                 3116\n",
       "loan_status                      0\n",
       "loan_percent_income              0\n",
       "cb_person_default_on_file        0\n",
       "cb_person_cred_hist_length       0\n",
       "dtype: int64"
      ]
     },
     "execution_count": 21,
     "metadata": {},
     "output_type": "execute_result"
    }
   ],
   "source": [
    "dfrisk.isna().sum()"
   ]
  },
  {
   "cell_type": "markdown",
   "id": "63a3643c-9160-4585-b495-1be8372b62d3",
   "metadata": {},
   "source": [
    "Replace the NaN values in the 'person_emp_length' column with the median value"
   ]
  },
  {
   "cell_type": "code",
   "execution_count": 22,
   "id": "f7671157-a3b2-44a9-bc5a-4da88506f989",
   "metadata": {},
   "outputs": [],
   "source": [
    "dfrisk['person_emp_length'].fillna(dfrisk['person_emp_length'].median(), inplace=True)"
   ]
  },
  {
   "cell_type": "markdown",
   "id": "1ac1e79c-e9d5-4186-863a-7d3f1036cd01",
   "metadata": {},
   "source": [
    "Confirm that the 'person_emp_length' column has no NaN values anymore"
   ]
  },
  {
   "cell_type": "code",
   "execution_count": 23,
   "id": "eb6c1cdc-fb3f-4823-b1f9-26099e5285d7",
   "metadata": {},
   "outputs": [
    {
     "data": {
      "text/plain": [
       "person_age                       0\n",
       "person_income                    0\n",
       "person_home_ownership            0\n",
       "person_emp_length                0\n",
       "loan_intent                      0\n",
       "loan_grade                       0\n",
       "loan_amnt                        0\n",
       "loan_int_rate                 3116\n",
       "loan_status                      0\n",
       "loan_percent_income              0\n",
       "cb_person_default_on_file        0\n",
       "cb_person_cred_hist_length       0\n",
       "dtype: int64"
      ]
     },
     "execution_count": 23,
     "metadata": {},
     "output_type": "execute_result"
    }
   ],
   "source": [
    "dfrisk.isna().sum()"
   ]
  },
  {
   "cell_type": "markdown",
   "id": "56c10fbf-6af6-4f56-b658-983b3398bcf3",
   "metadata": {},
   "source": [
    "Replace the NaN values in the 'loan_int_rate' column with the mode value"
   ]
  },
  {
   "cell_type": "code",
   "execution_count": 24,
   "id": "cde940b7-a106-47a7-8f23-9eb2acd4ee2f",
   "metadata": {},
   "outputs": [],
   "source": [
    "dfrisk['loan_int_rate'].fillna(dfrisk['loan_int_rate'].median(), inplace=True)"
   ]
  },
  {
   "cell_type": "markdown",
   "id": "2ba214d7-f5c8-4277-9354-eea80d76f536",
   "metadata": {},
   "source": [
    "Confirm that the 'loan_int_rate' column has no NaN values anymore"
   ]
  },
  {
   "cell_type": "code",
   "execution_count": 25,
   "id": "adc86830-2b70-4ccf-ad97-922e4efcec62",
   "metadata": {},
   "outputs": [
    {
     "data": {
      "text/plain": [
       "person_age                    0\n",
       "person_income                 0\n",
       "person_home_ownership         0\n",
       "person_emp_length             0\n",
       "loan_intent                   0\n",
       "loan_grade                    0\n",
       "loan_amnt                     0\n",
       "loan_int_rate                 0\n",
       "loan_status                   0\n",
       "loan_percent_income           0\n",
       "cb_person_default_on_file     0\n",
       "cb_person_cred_hist_length    0\n",
       "dtype: int64"
      ]
     },
     "execution_count": 25,
     "metadata": {},
     "output_type": "execute_result"
    }
   ],
   "source": [
    "dfrisk.isna().sum()"
   ]
  },
  {
   "cell_type": "markdown",
   "id": "d89d0695-6fb8-4dc5-929a-1346468c6f15",
   "metadata": {},
   "source": [
    "Remove unrealistic fields from 2 identified columns - 144 years of age and 123 years of service"
   ]
  },
  {
   "cell_type": "code",
   "execution_count": 26,
   "id": "0dc90d99-1968-4f6b-8d5b-2ff02cff461f",
   "metadata": {},
   "outputs": [],
   "source": [
    "#Check Modal age in person_age by calculating the mode of 'person_age' column\n",
    "mode_person_age = dfrisk['person_age'].mode()\n",
    "\n",
    "# Update the 'person_age' column where the age is greater than 75 with the mode age\n",
    "dfrisk.loc[dfrisk['person_age'] > 75, 'person_age'] = mode_person_age"
   ]
  },
  {
   "cell_type": "code",
   "execution_count": 27,
   "id": "e0ace4c1-00c7-434c-a93c-a3dd07ba0729",
   "metadata": {},
   "outputs": [],
   "source": [
    "# Calculate the Median value for 'person_emp_length' column\n",
    "median_person_emp_length = dfrisk['person_emp_length'].median()\n",
    "\n",
    "# Update the 'person_emp_length' column where it is greater than 50 with the median person_emp_length\n",
    "dfrisk.loc[dfrisk['person_emp_length'] > 50, 'person_emp_length'] = median_person_emp_length"
   ]
  },
  {
   "cell_type": "markdown",
   "id": "74eddcdd-13aa-402d-b7d3-2c17438c0fec",
   "metadata": {},
   "source": [
    "Confirm the removal of outliers, another look at the dataset"
   ]
  },
  {
   "cell_type": "code",
   "execution_count": 28,
   "id": "908c5f7f-519b-4648-a5aa-32d1ccb3904d",
   "metadata": {},
   "outputs": [
    {
     "data": {
      "text/html": [
       "<div>\n",
       "<style scoped>\n",
       "    .dataframe tbody tr th:only-of-type {\n",
       "        vertical-align: middle;\n",
       "    }\n",
       "\n",
       "    .dataframe tbody tr th {\n",
       "        vertical-align: top;\n",
       "    }\n",
       "\n",
       "    .dataframe thead th {\n",
       "        text-align: right;\n",
       "    }\n",
       "</style>\n",
       "<table border=\"1\" class=\"dataframe\">\n",
       "  <thead>\n",
       "    <tr style=\"text-align: right;\">\n",
       "      <th></th>\n",
       "      <th>person_age</th>\n",
       "      <th>person_income</th>\n",
       "      <th>person_home_ownership</th>\n",
       "      <th>person_emp_length</th>\n",
       "      <th>loan_intent</th>\n",
       "      <th>loan_grade</th>\n",
       "      <th>loan_amnt</th>\n",
       "      <th>loan_int_rate</th>\n",
       "      <th>loan_status</th>\n",
       "      <th>loan_percent_income</th>\n",
       "      <th>cb_person_default_on_file</th>\n",
       "      <th>cb_person_cred_hist_length</th>\n",
       "    </tr>\n",
       "  </thead>\n",
       "  <tbody>\n",
       "    <tr>\n",
       "      <th>0</th>\n",
       "      <td>22.0</td>\n",
       "      <td>59000</td>\n",
       "      <td>0</td>\n",
       "      <td>4.0</td>\n",
       "      <td>0</td>\n",
       "      <td>3</td>\n",
       "      <td>35000</td>\n",
       "      <td>16.02</td>\n",
       "      <td>1</td>\n",
       "      <td>0.59</td>\n",
       "      <td>1</td>\n",
       "      <td>3</td>\n",
       "    </tr>\n",
       "    <tr>\n",
       "      <th>1</th>\n",
       "      <td>21.0</td>\n",
       "      <td>9600</td>\n",
       "      <td>1</td>\n",
       "      <td>5.0</td>\n",
       "      <td>1</td>\n",
       "      <td>1</td>\n",
       "      <td>1000</td>\n",
       "      <td>11.14</td>\n",
       "      <td>0</td>\n",
       "      <td>0.10</td>\n",
       "      <td>0</td>\n",
       "      <td>2</td>\n",
       "    </tr>\n",
       "    <tr>\n",
       "      <th>2</th>\n",
       "      <td>25.0</td>\n",
       "      <td>9600</td>\n",
       "      <td>2</td>\n",
       "      <td>1.0</td>\n",
       "      <td>2</td>\n",
       "      <td>2</td>\n",
       "      <td>5500</td>\n",
       "      <td>12.87</td>\n",
       "      <td>1</td>\n",
       "      <td>0.57</td>\n",
       "      <td>0</td>\n",
       "      <td>3</td>\n",
       "    </tr>\n",
       "    <tr>\n",
       "      <th>3</th>\n",
       "      <td>23.0</td>\n",
       "      <td>65500</td>\n",
       "      <td>0</td>\n",
       "      <td>4.0</td>\n",
       "      <td>2</td>\n",
       "      <td>2</td>\n",
       "      <td>35000</td>\n",
       "      <td>15.23</td>\n",
       "      <td>1</td>\n",
       "      <td>0.53</td>\n",
       "      <td>0</td>\n",
       "      <td>2</td>\n",
       "    </tr>\n",
       "    <tr>\n",
       "      <th>4</th>\n",
       "      <td>24.0</td>\n",
       "      <td>54400</td>\n",
       "      <td>0</td>\n",
       "      <td>8.0</td>\n",
       "      <td>2</td>\n",
       "      <td>2</td>\n",
       "      <td>35000</td>\n",
       "      <td>14.27</td>\n",
       "      <td>1</td>\n",
       "      <td>0.55</td>\n",
       "      <td>1</td>\n",
       "      <td>4</td>\n",
       "    </tr>\n",
       "    <tr>\n",
       "      <th>...</th>\n",
       "      <td>...</td>\n",
       "      <td>...</td>\n",
       "      <td>...</td>\n",
       "      <td>...</td>\n",
       "      <td>...</td>\n",
       "      <td>...</td>\n",
       "      <td>...</td>\n",
       "      <td>...</td>\n",
       "      <td>...</td>\n",
       "      <td>...</td>\n",
       "      <td>...</td>\n",
       "      <td>...</td>\n",
       "    </tr>\n",
       "    <tr>\n",
       "      <th>32576</th>\n",
       "      <td>57.0</td>\n",
       "      <td>53000</td>\n",
       "      <td>2</td>\n",
       "      <td>1.0</td>\n",
       "      <td>0</td>\n",
       "      <td>2</td>\n",
       "      <td>5800</td>\n",
       "      <td>13.16</td>\n",
       "      <td>0</td>\n",
       "      <td>0.11</td>\n",
       "      <td>0</td>\n",
       "      <td>30</td>\n",
       "    </tr>\n",
       "    <tr>\n",
       "      <th>32577</th>\n",
       "      <td>54.0</td>\n",
       "      <td>120000</td>\n",
       "      <td>2</td>\n",
       "      <td>4.0</td>\n",
       "      <td>0</td>\n",
       "      <td>0</td>\n",
       "      <td>17625</td>\n",
       "      <td>7.49</td>\n",
       "      <td>0</td>\n",
       "      <td>0.15</td>\n",
       "      <td>0</td>\n",
       "      <td>19</td>\n",
       "    </tr>\n",
       "    <tr>\n",
       "      <th>32578</th>\n",
       "      <td>65.0</td>\n",
       "      <td>76000</td>\n",
       "      <td>0</td>\n",
       "      <td>3.0</td>\n",
       "      <td>4</td>\n",
       "      <td>1</td>\n",
       "      <td>35000</td>\n",
       "      <td>10.99</td>\n",
       "      <td>1</td>\n",
       "      <td>0.46</td>\n",
       "      <td>0</td>\n",
       "      <td>28</td>\n",
       "    </tr>\n",
       "    <tr>\n",
       "      <th>32579</th>\n",
       "      <td>56.0</td>\n",
       "      <td>150000</td>\n",
       "      <td>2</td>\n",
       "      <td>5.0</td>\n",
       "      <td>0</td>\n",
       "      <td>1</td>\n",
       "      <td>15000</td>\n",
       "      <td>11.48</td>\n",
       "      <td>0</td>\n",
       "      <td>0.10</td>\n",
       "      <td>0</td>\n",
       "      <td>26</td>\n",
       "    </tr>\n",
       "    <tr>\n",
       "      <th>32580</th>\n",
       "      <td>66.0</td>\n",
       "      <td>42000</td>\n",
       "      <td>0</td>\n",
       "      <td>2.0</td>\n",
       "      <td>2</td>\n",
       "      <td>1</td>\n",
       "      <td>6475</td>\n",
       "      <td>9.99</td>\n",
       "      <td>0</td>\n",
       "      <td>0.15</td>\n",
       "      <td>0</td>\n",
       "      <td>30</td>\n",
       "    </tr>\n",
       "  </tbody>\n",
       "</table>\n",
       "<p>32581 rows × 12 columns</p>\n",
       "</div>"
      ],
      "text/plain": [
       "       person_age  person_income  person_home_ownership  person_emp_length  \\\n",
       "0            22.0          59000                      0                4.0   \n",
       "1            21.0           9600                      1                5.0   \n",
       "2            25.0           9600                      2                1.0   \n",
       "3            23.0          65500                      0                4.0   \n",
       "4            24.0          54400                      0                8.0   \n",
       "...           ...            ...                    ...                ...   \n",
       "32576        57.0          53000                      2                1.0   \n",
       "32577        54.0         120000                      2                4.0   \n",
       "32578        65.0          76000                      0                3.0   \n",
       "32579        56.0         150000                      2                5.0   \n",
       "32580        66.0          42000                      0                2.0   \n",
       "\n",
       "       loan_intent  loan_grade  loan_amnt  loan_int_rate  loan_status  \\\n",
       "0                0           3      35000          16.02            1   \n",
       "1                1           1       1000          11.14            0   \n",
       "2                2           2       5500          12.87            1   \n",
       "3                2           2      35000          15.23            1   \n",
       "4                2           2      35000          14.27            1   \n",
       "...            ...         ...        ...            ...          ...   \n",
       "32576            0           2       5800          13.16            0   \n",
       "32577            0           0      17625           7.49            0   \n",
       "32578            4           1      35000          10.99            1   \n",
       "32579            0           1      15000          11.48            0   \n",
       "32580            2           1       6475           9.99            0   \n",
       "\n",
       "       loan_percent_income  cb_person_default_on_file  \\\n",
       "0                     0.59                          1   \n",
       "1                     0.10                          0   \n",
       "2                     0.57                          0   \n",
       "3                     0.53                          0   \n",
       "4                     0.55                          1   \n",
       "...                    ...                        ...   \n",
       "32576                 0.11                          0   \n",
       "32577                 0.15                          0   \n",
       "32578                 0.46                          0   \n",
       "32579                 0.10                          0   \n",
       "32580                 0.15                          0   \n",
       "\n",
       "       cb_person_cred_hist_length  \n",
       "0                               3  \n",
       "1                               2  \n",
       "2                               3  \n",
       "3                               2  \n",
       "4                               4  \n",
       "...                           ...  \n",
       "32576                          30  \n",
       "32577                          19  \n",
       "32578                          28  \n",
       "32579                          26  \n",
       "32580                          30  \n",
       "\n",
       "[32581 rows x 12 columns]"
      ]
     },
     "execution_count": 28,
     "metadata": {},
     "output_type": "execute_result"
    }
   ],
   "source": [
    "dfrisk"
   ]
  },
  {
   "cell_type": "code",
   "execution_count": 29,
   "id": "662074c8-5c3d-4142-a1ab-08c73137759f",
   "metadata": {},
   "outputs": [
    {
     "data": {
      "text/html": [
       "<div>\n",
       "<style scoped>\n",
       "    .dataframe tbody tr th:only-of-type {\n",
       "        vertical-align: middle;\n",
       "    }\n",
       "\n",
       "    .dataframe tbody tr th {\n",
       "        vertical-align: top;\n",
       "    }\n",
       "\n",
       "    .dataframe thead th {\n",
       "        text-align: right;\n",
       "    }\n",
       "</style>\n",
       "<table border=\"1\" class=\"dataframe\">\n",
       "  <thead>\n",
       "    <tr style=\"text-align: right;\">\n",
       "      <th></th>\n",
       "      <th>person_age</th>\n",
       "      <th>person_income</th>\n",
       "      <th>person_home_ownership</th>\n",
       "      <th>person_emp_length</th>\n",
       "      <th>loan_intent</th>\n",
       "      <th>loan_grade</th>\n",
       "      <th>loan_amnt</th>\n",
       "      <th>loan_int_rate</th>\n",
       "      <th>loan_status</th>\n",
       "      <th>loan_percent_income</th>\n",
       "      <th>cb_person_default_on_file</th>\n",
       "      <th>cb_person_cred_hist_length</th>\n",
       "    </tr>\n",
       "  </thead>\n",
       "  <tbody>\n",
       "    <tr>\n",
       "      <th>0</th>\n",
       "      <td>22.0</td>\n",
       "      <td>59000</td>\n",
       "      <td>0</td>\n",
       "      <td>4.0</td>\n",
       "      <td>0</td>\n",
       "      <td>3</td>\n",
       "      <td>35000</td>\n",
       "      <td>16.02</td>\n",
       "      <td>1</td>\n",
       "      <td>0.59</td>\n",
       "      <td>1</td>\n",
       "      <td>3</td>\n",
       "    </tr>\n",
       "    <tr>\n",
       "      <th>1</th>\n",
       "      <td>21.0</td>\n",
       "      <td>9600</td>\n",
       "      <td>1</td>\n",
       "      <td>5.0</td>\n",
       "      <td>1</td>\n",
       "      <td>1</td>\n",
       "      <td>1000</td>\n",
       "      <td>11.14</td>\n",
       "      <td>0</td>\n",
       "      <td>0.10</td>\n",
       "      <td>0</td>\n",
       "      <td>2</td>\n",
       "    </tr>\n",
       "    <tr>\n",
       "      <th>2</th>\n",
       "      <td>25.0</td>\n",
       "      <td>9600</td>\n",
       "      <td>2</td>\n",
       "      <td>1.0</td>\n",
       "      <td>2</td>\n",
       "      <td>2</td>\n",
       "      <td>5500</td>\n",
       "      <td>12.87</td>\n",
       "      <td>1</td>\n",
       "      <td>0.57</td>\n",
       "      <td>0</td>\n",
       "      <td>3</td>\n",
       "    </tr>\n",
       "    <tr>\n",
       "      <th>3</th>\n",
       "      <td>23.0</td>\n",
       "      <td>65500</td>\n",
       "      <td>0</td>\n",
       "      <td>4.0</td>\n",
       "      <td>2</td>\n",
       "      <td>2</td>\n",
       "      <td>35000</td>\n",
       "      <td>15.23</td>\n",
       "      <td>1</td>\n",
       "      <td>0.53</td>\n",
       "      <td>0</td>\n",
       "      <td>2</td>\n",
       "    </tr>\n",
       "    <tr>\n",
       "      <th>4</th>\n",
       "      <td>24.0</td>\n",
       "      <td>54400</td>\n",
       "      <td>0</td>\n",
       "      <td>8.0</td>\n",
       "      <td>2</td>\n",
       "      <td>2</td>\n",
       "      <td>35000</td>\n",
       "      <td>14.27</td>\n",
       "      <td>1</td>\n",
       "      <td>0.55</td>\n",
       "      <td>1</td>\n",
       "      <td>4</td>\n",
       "    </tr>\n",
       "  </tbody>\n",
       "</table>\n",
       "</div>"
      ],
      "text/plain": [
       "   person_age  person_income  person_home_ownership  person_emp_length  \\\n",
       "0        22.0          59000                      0                4.0   \n",
       "1        21.0           9600                      1                5.0   \n",
       "2        25.0           9600                      2                1.0   \n",
       "3        23.0          65500                      0                4.0   \n",
       "4        24.0          54400                      0                8.0   \n",
       "\n",
       "   loan_intent  loan_grade  loan_amnt  loan_int_rate  loan_status  \\\n",
       "0            0           3      35000          16.02            1   \n",
       "1            1           1       1000          11.14            0   \n",
       "2            2           2       5500          12.87            1   \n",
       "3            2           2      35000          15.23            1   \n",
       "4            2           2      35000          14.27            1   \n",
       "\n",
       "   loan_percent_income  cb_person_default_on_file  cb_person_cred_hist_length  \n",
       "0                 0.59                          1                           3  \n",
       "1                 0.10                          0                           2  \n",
       "2                 0.57                          0                           3  \n",
       "3                 0.53                          0                           2  \n",
       "4                 0.55                          1                           4  "
      ]
     },
     "execution_count": 29,
     "metadata": {},
     "output_type": "execute_result"
    }
   ],
   "source": [
    "dfrisk.head()"
   ]
  },
  {
   "cell_type": "code",
   "execution_count": 30,
   "id": "611d3dd4-3b73-4690-8398-16ae51694b2e",
   "metadata": {},
   "outputs": [
    {
     "data": {
      "text/html": [
       "<div>\n",
       "<style scoped>\n",
       "    .dataframe tbody tr th:only-of-type {\n",
       "        vertical-align: middle;\n",
       "    }\n",
       "\n",
       "    .dataframe tbody tr th {\n",
       "        vertical-align: top;\n",
       "    }\n",
       "\n",
       "    .dataframe thead th {\n",
       "        text-align: right;\n",
       "    }\n",
       "</style>\n",
       "<table border=\"1\" class=\"dataframe\">\n",
       "  <thead>\n",
       "    <tr style=\"text-align: right;\">\n",
       "      <th></th>\n",
       "      <th>person_age</th>\n",
       "      <th>person_income</th>\n",
       "      <th>person_home_ownership</th>\n",
       "      <th>person_emp_length</th>\n",
       "      <th>loan_intent</th>\n",
       "      <th>loan_grade</th>\n",
       "      <th>loan_amnt</th>\n",
       "      <th>loan_int_rate</th>\n",
       "      <th>loan_status</th>\n",
       "      <th>loan_percent_income</th>\n",
       "      <th>cb_person_default_on_file</th>\n",
       "      <th>cb_person_cred_hist_length</th>\n",
       "    </tr>\n",
       "  </thead>\n",
       "  <tbody>\n",
       "    <tr>\n",
       "      <th>32576</th>\n",
       "      <td>57.0</td>\n",
       "      <td>53000</td>\n",
       "      <td>2</td>\n",
       "      <td>1.0</td>\n",
       "      <td>0</td>\n",
       "      <td>2</td>\n",
       "      <td>5800</td>\n",
       "      <td>13.16</td>\n",
       "      <td>0</td>\n",
       "      <td>0.11</td>\n",
       "      <td>0</td>\n",
       "      <td>30</td>\n",
       "    </tr>\n",
       "    <tr>\n",
       "      <th>32577</th>\n",
       "      <td>54.0</td>\n",
       "      <td>120000</td>\n",
       "      <td>2</td>\n",
       "      <td>4.0</td>\n",
       "      <td>0</td>\n",
       "      <td>0</td>\n",
       "      <td>17625</td>\n",
       "      <td>7.49</td>\n",
       "      <td>0</td>\n",
       "      <td>0.15</td>\n",
       "      <td>0</td>\n",
       "      <td>19</td>\n",
       "    </tr>\n",
       "    <tr>\n",
       "      <th>32578</th>\n",
       "      <td>65.0</td>\n",
       "      <td>76000</td>\n",
       "      <td>0</td>\n",
       "      <td>3.0</td>\n",
       "      <td>4</td>\n",
       "      <td>1</td>\n",
       "      <td>35000</td>\n",
       "      <td>10.99</td>\n",
       "      <td>1</td>\n",
       "      <td>0.46</td>\n",
       "      <td>0</td>\n",
       "      <td>28</td>\n",
       "    </tr>\n",
       "    <tr>\n",
       "      <th>32579</th>\n",
       "      <td>56.0</td>\n",
       "      <td>150000</td>\n",
       "      <td>2</td>\n",
       "      <td>5.0</td>\n",
       "      <td>0</td>\n",
       "      <td>1</td>\n",
       "      <td>15000</td>\n",
       "      <td>11.48</td>\n",
       "      <td>0</td>\n",
       "      <td>0.10</td>\n",
       "      <td>0</td>\n",
       "      <td>26</td>\n",
       "    </tr>\n",
       "    <tr>\n",
       "      <th>32580</th>\n",
       "      <td>66.0</td>\n",
       "      <td>42000</td>\n",
       "      <td>0</td>\n",
       "      <td>2.0</td>\n",
       "      <td>2</td>\n",
       "      <td>1</td>\n",
       "      <td>6475</td>\n",
       "      <td>9.99</td>\n",
       "      <td>0</td>\n",
       "      <td>0.15</td>\n",
       "      <td>0</td>\n",
       "      <td>30</td>\n",
       "    </tr>\n",
       "  </tbody>\n",
       "</table>\n",
       "</div>"
      ],
      "text/plain": [
       "       person_age  person_income  person_home_ownership  person_emp_length  \\\n",
       "32576        57.0          53000                      2                1.0   \n",
       "32577        54.0         120000                      2                4.0   \n",
       "32578        65.0          76000                      0                3.0   \n",
       "32579        56.0         150000                      2                5.0   \n",
       "32580        66.0          42000                      0                2.0   \n",
       "\n",
       "       loan_intent  loan_grade  loan_amnt  loan_int_rate  loan_status  \\\n",
       "32576            0           2       5800          13.16            0   \n",
       "32577            0           0      17625           7.49            0   \n",
       "32578            4           1      35000          10.99            1   \n",
       "32579            0           1      15000          11.48            0   \n",
       "32580            2           1       6475           9.99            0   \n",
       "\n",
       "       loan_percent_income  cb_person_default_on_file  \\\n",
       "32576                 0.11                          0   \n",
       "32577                 0.15                          0   \n",
       "32578                 0.46                          0   \n",
       "32579                 0.10                          0   \n",
       "32580                 0.15                          0   \n",
       "\n",
       "       cb_person_cred_hist_length  \n",
       "32576                          30  \n",
       "32577                          19  \n",
       "32578                          28  \n",
       "32579                          26  \n",
       "32580                          30  "
      ]
     },
     "execution_count": 30,
     "metadata": {},
     "output_type": "execute_result"
    }
   ],
   "source": [
    "dfrisk.tail()"
   ]
  },
  {
   "cell_type": "code",
   "execution_count": 31,
   "id": "2d3e13b2-dabc-41ff-ad43-89ebe7520003",
   "metadata": {},
   "outputs": [
    {
     "data": {
      "text/html": [
       "<div>\n",
       "<style scoped>\n",
       "    .dataframe tbody tr th:only-of-type {\n",
       "        vertical-align: middle;\n",
       "    }\n",
       "\n",
       "    .dataframe tbody tr th {\n",
       "        vertical-align: top;\n",
       "    }\n",
       "\n",
       "    .dataframe thead th {\n",
       "        text-align: right;\n",
       "    }\n",
       "</style>\n",
       "<table border=\"1\" class=\"dataframe\">\n",
       "  <thead>\n",
       "    <tr style=\"text-align: right;\">\n",
       "      <th></th>\n",
       "      <th>person_age</th>\n",
       "      <th>person_income</th>\n",
       "      <th>person_home_ownership</th>\n",
       "      <th>person_emp_length</th>\n",
       "      <th>loan_intent</th>\n",
       "      <th>loan_grade</th>\n",
       "      <th>loan_amnt</th>\n",
       "      <th>loan_int_rate</th>\n",
       "      <th>loan_status</th>\n",
       "      <th>loan_percent_income</th>\n",
       "      <th>cb_person_default_on_file</th>\n",
       "      <th>cb_person_cred_hist_length</th>\n",
       "    </tr>\n",
       "  </thead>\n",
       "  <tbody>\n",
       "    <tr>\n",
       "      <th>count</th>\n",
       "      <td>32571.000000</td>\n",
       "      <td>3.258100e+04</td>\n",
       "      <td>32581.000000</td>\n",
       "      <td>32581.000000</td>\n",
       "      <td>32581.000000</td>\n",
       "      <td>32581.000000</td>\n",
       "      <td>32581.000000</td>\n",
       "      <td>32581.000000</td>\n",
       "      <td>32581.000000</td>\n",
       "      <td>32581.000000</td>\n",
       "      <td>32581.000000</td>\n",
       "      <td>32581.000000</td>\n",
       "    </tr>\n",
       "    <tr>\n",
       "      <th>mean</th>\n",
       "      <td>27.709650</td>\n",
       "      <td>6.607485e+04</td>\n",
       "      <td>0.914429</td>\n",
       "      <td>4.760689</td>\n",
       "      <td>2.339769</td>\n",
       "      <td>1.218195</td>\n",
       "      <td>9589.371106</td>\n",
       "      <td>11.009620</td>\n",
       "      <td>0.218164</td>\n",
       "      <td>0.170203</td>\n",
       "      <td>0.176330</td>\n",
       "      <td>5.804211</td>\n",
       "    </tr>\n",
       "    <tr>\n",
       "      <th>std</th>\n",
       "      <td>6.167858</td>\n",
       "      <td>6.198312e+04</td>\n",
       "      <td>0.960858</td>\n",
       "      <td>3.981013</td>\n",
       "      <td>1.678803</td>\n",
       "      <td>1.166336</td>\n",
       "      <td>6322.086646</td>\n",
       "      <td>3.081611</td>\n",
       "      <td>0.413006</td>\n",
       "      <td>0.106782</td>\n",
       "      <td>0.381106</td>\n",
       "      <td>4.055001</td>\n",
       "    </tr>\n",
       "    <tr>\n",
       "      <th>min</th>\n",
       "      <td>20.000000</td>\n",
       "      <td>4.000000e+03</td>\n",
       "      <td>0.000000</td>\n",
       "      <td>0.000000</td>\n",
       "      <td>0.000000</td>\n",
       "      <td>0.000000</td>\n",
       "      <td>500.000000</td>\n",
       "      <td>5.420000</td>\n",
       "      <td>0.000000</td>\n",
       "      <td>0.000000</td>\n",
       "      <td>0.000000</td>\n",
       "      <td>2.000000</td>\n",
       "    </tr>\n",
       "    <tr>\n",
       "      <th>25%</th>\n",
       "      <td>23.000000</td>\n",
       "      <td>3.850000e+04</td>\n",
       "      <td>0.000000</td>\n",
       "      <td>2.000000</td>\n",
       "      <td>1.000000</td>\n",
       "      <td>0.000000</td>\n",
       "      <td>5000.000000</td>\n",
       "      <td>8.490000</td>\n",
       "      <td>0.000000</td>\n",
       "      <td>0.090000</td>\n",
       "      <td>0.000000</td>\n",
       "      <td>3.000000</td>\n",
       "    </tr>\n",
       "    <tr>\n",
       "      <th>50%</th>\n",
       "      <td>26.000000</td>\n",
       "      <td>5.500000e+04</td>\n",
       "      <td>0.000000</td>\n",
       "      <td>4.000000</td>\n",
       "      <td>2.000000</td>\n",
       "      <td>1.000000</td>\n",
       "      <td>8000.000000</td>\n",
       "      <td>10.990000</td>\n",
       "      <td>0.000000</td>\n",
       "      <td>0.150000</td>\n",
       "      <td>0.000000</td>\n",
       "      <td>4.000000</td>\n",
       "    </tr>\n",
       "    <tr>\n",
       "      <th>75%</th>\n",
       "      <td>30.000000</td>\n",
       "      <td>7.920000e+04</td>\n",
       "      <td>2.000000</td>\n",
       "      <td>7.000000</td>\n",
       "      <td>4.000000</td>\n",
       "      <td>2.000000</td>\n",
       "      <td>12200.000000</td>\n",
       "      <td>13.110000</td>\n",
       "      <td>0.000000</td>\n",
       "      <td>0.230000</td>\n",
       "      <td>0.000000</td>\n",
       "      <td>8.000000</td>\n",
       "    </tr>\n",
       "    <tr>\n",
       "      <th>max</th>\n",
       "      <td>73.000000</td>\n",
       "      <td>6.000000e+06</td>\n",
       "      <td>3.000000</td>\n",
       "      <td>41.000000</td>\n",
       "      <td>5.000000</td>\n",
       "      <td>6.000000</td>\n",
       "      <td>35000.000000</td>\n",
       "      <td>23.220000</td>\n",
       "      <td>1.000000</td>\n",
       "      <td>0.830000</td>\n",
       "      <td>1.000000</td>\n",
       "      <td>30.000000</td>\n",
       "    </tr>\n",
       "  </tbody>\n",
       "</table>\n",
       "</div>"
      ],
      "text/plain": [
       "         person_age  person_income  person_home_ownership  person_emp_length  \\\n",
       "count  32571.000000   3.258100e+04           32581.000000       32581.000000   \n",
       "mean      27.709650   6.607485e+04               0.914429           4.760689   \n",
       "std        6.167858   6.198312e+04               0.960858           3.981013   \n",
       "min       20.000000   4.000000e+03               0.000000           0.000000   \n",
       "25%       23.000000   3.850000e+04               0.000000           2.000000   \n",
       "50%       26.000000   5.500000e+04               0.000000           4.000000   \n",
       "75%       30.000000   7.920000e+04               2.000000           7.000000   \n",
       "max       73.000000   6.000000e+06               3.000000          41.000000   \n",
       "\n",
       "        loan_intent    loan_grade     loan_amnt  loan_int_rate   loan_status  \\\n",
       "count  32581.000000  32581.000000  32581.000000   32581.000000  32581.000000   \n",
       "mean       2.339769      1.218195   9589.371106      11.009620      0.218164   \n",
       "std        1.678803      1.166336   6322.086646       3.081611      0.413006   \n",
       "min        0.000000      0.000000    500.000000       5.420000      0.000000   \n",
       "25%        1.000000      0.000000   5000.000000       8.490000      0.000000   \n",
       "50%        2.000000      1.000000   8000.000000      10.990000      0.000000   \n",
       "75%        4.000000      2.000000  12200.000000      13.110000      0.000000   \n",
       "max        5.000000      6.000000  35000.000000      23.220000      1.000000   \n",
       "\n",
       "       loan_percent_income  cb_person_default_on_file  \\\n",
       "count         32581.000000               32581.000000   \n",
       "mean              0.170203                   0.176330   \n",
       "std               0.106782                   0.381106   \n",
       "min               0.000000                   0.000000   \n",
       "25%               0.090000                   0.000000   \n",
       "50%               0.150000                   0.000000   \n",
       "75%               0.230000                   0.000000   \n",
       "max               0.830000                   1.000000   \n",
       "\n",
       "       cb_person_cred_hist_length  \n",
       "count                32581.000000  \n",
       "mean                     5.804211  \n",
       "std                      4.055001  \n",
       "min                      2.000000  \n",
       "25%                      3.000000  \n",
       "50%                      4.000000  \n",
       "75%                      8.000000  \n",
       "max                     30.000000  "
      ]
     },
     "execution_count": 31,
     "metadata": {},
     "output_type": "execute_result"
    }
   ],
   "source": [
    "dfrisk.describe()"
   ]
  },
  {
   "cell_type": "code",
   "execution_count": 32,
   "id": "3124d224-4c6c-4c2e-8553-b6758ec64a08",
   "metadata": {},
   "outputs": [
    {
     "name": "stdout",
     "output_type": "stream",
     "text": [
      "<class 'pandas.core.frame.DataFrame'>\n",
      "RangeIndex: 32581 entries, 0 to 32580\n",
      "Data columns (total 12 columns):\n",
      " #   Column                      Non-Null Count  Dtype  \n",
      "---  ------                      --------------  -----  \n",
      " 0   person_age                  32571 non-null  float64\n",
      " 1   person_income               32581 non-null  int64  \n",
      " 2   person_home_ownership       32581 non-null  int64  \n",
      " 3   person_emp_length           32581 non-null  float64\n",
      " 4   loan_intent                 32581 non-null  int64  \n",
      " 5   loan_grade                  32581 non-null  int64  \n",
      " 6   loan_amnt                   32581 non-null  int64  \n",
      " 7   loan_int_rate               32581 non-null  float64\n",
      " 8   loan_status                 32581 non-null  int64  \n",
      " 9   loan_percent_income         32581 non-null  float64\n",
      " 10  cb_person_default_on_file   32581 non-null  int64  \n",
      " 11  cb_person_cred_hist_length  32581 non-null  int64  \n",
      "dtypes: float64(4), int64(8)\n",
      "memory usage: 3.0 MB\n"
     ]
    }
   ],
   "source": [
    "dfrisk.info()"
   ]
  },
  {
   "cell_type": "code",
   "execution_count": 33,
   "id": "d093b356-7d2a-4b23-86d6-3583451c525d",
   "metadata": {},
   "outputs": [
    {
     "name": "stdout",
     "output_type": "stream",
     "text": [
      "       person_age  person_income  person_home_ownership  person_emp_length  \\\n",
      "0            22.0          59000                      0                4.0   \n",
      "1            21.0           9600                      1                5.0   \n",
      "2            25.0           9600                      2                1.0   \n",
      "3            23.0          65500                      0                4.0   \n",
      "4            24.0          54400                      0                8.0   \n",
      "...           ...            ...                    ...                ...   \n",
      "32576        57.0          53000                      2                1.0   \n",
      "32577        54.0         120000                      2                4.0   \n",
      "32578        65.0          76000                      0                3.0   \n",
      "32579        56.0         150000                      2                5.0   \n",
      "32580        66.0          42000                      0                2.0   \n",
      "\n",
      "       loan_intent  loan_grade  loan_amnt  loan_int_rate  loan_status  \\\n",
      "0                0           3      35000          16.02            1   \n",
      "1                1           1       1000          11.14            0   \n",
      "2                2           2       5500          12.87            1   \n",
      "3                2           2      35000          15.23            1   \n",
      "4                2           2      35000          14.27            1   \n",
      "...            ...         ...        ...            ...          ...   \n",
      "32576            0           2       5800          13.16            0   \n",
      "32577            0           0      17625           7.49            0   \n",
      "32578            4           1      35000          10.99            1   \n",
      "32579            0           1      15000          11.48            0   \n",
      "32580            2           1       6475           9.99            0   \n",
      "\n",
      "       loan_percent_income  cb_person_default_on_file  \\\n",
      "0                     0.59                          1   \n",
      "1                     0.10                          0   \n",
      "2                     0.57                          0   \n",
      "3                     0.53                          0   \n",
      "4                     0.55                          1   \n",
      "...                    ...                        ...   \n",
      "32576                 0.11                          0   \n",
      "32577                 0.15                          0   \n",
      "32578                 0.46                          0   \n",
      "32579                 0.10                          0   \n",
      "32580                 0.15                          0   \n",
      "\n",
      "       cb_person_cred_hist_length  \n",
      "0                               3  \n",
      "1                               2  \n",
      "2                               3  \n",
      "3                               2  \n",
      "4                               4  \n",
      "...                           ...  \n",
      "32576                          30  \n",
      "32577                          19  \n",
      "32578                          28  \n",
      "32579                          26  \n",
      "32580                          30  \n",
      "\n",
      "[32581 rows x 12 columns]\n"
     ]
    }
   ],
   "source": [
    "print(dfrisk)"
   ]
  },
  {
   "cell_type": "markdown",
   "id": "25f5959b-c14d-4e19-b0eb-26ede5c5dbe8",
   "metadata": {},
   "source": [
    "# LogisticRegression"
   ]
  },
  {
   "cell_type": "markdown",
   "id": "85115286-9cad-4185-8541-f33a7fcb9d4c",
   "metadata": {},
   "source": [
    "Import necessary Libraries"
   ]
  },
  {
   "cell_type": "code",
   "execution_count": 34,
   "id": "67814279-8eec-40b9-a64f-1f334abfd368",
   "metadata": {},
   "outputs": [],
   "source": [
    "import pandas as pd\n",
    "from sklearn.model_selection import train_test_split\n",
    "from sklearn.preprocessing import OneHotEncoder, LabelEncoder\n",
    "from sklearn.linear_model import LogisticRegression\n",
    "from xgboost import XGBClassifier, XGBRegressor\n",
    "from sklearn.metrics import accuracy_score, mean_squared_error, mean_absolute_error, r2_score"
   ]
  },
  {
   "cell_type": "markdown",
   "id": "97e7bac1-c558-4892-ae57-7d046ac85e2b",
   "metadata": {},
   "source": [
    "Check data types"
   ]
  },
  {
   "cell_type": "code",
   "execution_count": 35,
   "id": "798a5c06-4e4c-4e35-8749-1942c2d513c3",
   "metadata": {},
   "outputs": [
    {
     "name": "stdout",
     "output_type": "stream",
     "text": [
      "person_age                    float64\n",
      "person_income                   int64\n",
      "person_home_ownership           int64\n",
      "person_emp_length             float64\n",
      "loan_intent                     int64\n",
      "loan_grade                      int64\n",
      "loan_amnt                       int64\n",
      "loan_int_rate                 float64\n",
      "loan_status                     int64\n",
      "loan_percent_income           float64\n",
      "cb_person_default_on_file       int64\n",
      "cb_person_cred_hist_length      int64\n",
      "dtype: object\n"
     ]
    }
   ],
   "source": [
    "print(dfrisk.dtypes)"
   ]
  },
  {
   "cell_type": "markdown",
   "id": "a710df21-91c0-45c4-98af-7d855c595f7a",
   "metadata": {},
   "source": [
    "Prepare features and target for Logistic Regression"
   ]
  },
  {
   "cell_type": "code",
   "execution_count": 36,
   "id": "823644ac-7b69-44ce-95f0-4f9a890f9380",
   "metadata": {},
   "outputs": [
    {
     "data": {
      "text/html": [
       "<div>\n",
       "<style scoped>\n",
       "    .dataframe tbody tr th:only-of-type {\n",
       "        vertical-align: middle;\n",
       "    }\n",
       "\n",
       "    .dataframe tbody tr th {\n",
       "        vertical-align: top;\n",
       "    }\n",
       "\n",
       "    .dataframe thead th {\n",
       "        text-align: right;\n",
       "    }\n",
       "</style>\n",
       "<table border=\"1\" class=\"dataframe\">\n",
       "  <thead>\n",
       "    <tr style=\"text-align: right;\">\n",
       "      <th></th>\n",
       "      <th>person_age</th>\n",
       "      <th>person_income</th>\n",
       "      <th>person_home_ownership</th>\n",
       "      <th>person_emp_length</th>\n",
       "      <th>loan_intent</th>\n",
       "      <th>loan_grade</th>\n",
       "      <th>loan_amnt</th>\n",
       "      <th>loan_int_rate</th>\n",
       "      <th>loan_status</th>\n",
       "      <th>loan_percent_income</th>\n",
       "      <th>cb_person_default_on_file</th>\n",
       "      <th>cb_person_cred_hist_length</th>\n",
       "    </tr>\n",
       "  </thead>\n",
       "  <tbody>\n",
       "    <tr>\n",
       "      <th>person_age</th>\n",
       "      <td>1.000000</td>\n",
       "      <td>0.141424</td>\n",
       "      <td>0.033113</td>\n",
       "      <td>0.168988</td>\n",
       "      <td>0.027972</td>\n",
       "      <td>0.014779</td>\n",
       "      <td>0.052195</td>\n",
       "      <td>0.012065</td>\n",
       "      <td>-0.020128</td>\n",
       "      <td>-0.041733</td>\n",
       "      <td>0.007850</td>\n",
       "      <td>0.878456</td>\n",
       "    </tr>\n",
       "    <tr>\n",
       "      <th>person_income</th>\n",
       "      <td>0.141424</td>\n",
       "      <td>1.000000</td>\n",
       "      <td>0.199315</td>\n",
       "      <td>0.137016</td>\n",
       "      <td>0.016113</td>\n",
       "      <td>-0.001022</td>\n",
       "      <td>0.266820</td>\n",
       "      <td>0.000746</td>\n",
       "      <td>-0.144449</td>\n",
       "      <td>-0.254471</td>\n",
       "      <td>-0.003613</td>\n",
       "      <td>0.117987</td>\n",
       "    </tr>\n",
       "    <tr>\n",
       "      <th>person_home_ownership</th>\n",
       "      <td>0.033113</td>\n",
       "      <td>0.199315</td>\n",
       "      <td>1.000000</td>\n",
       "      <td>0.233845</td>\n",
       "      <td>0.017682</td>\n",
       "      <td>-0.119541</td>\n",
       "      <td>0.128938</td>\n",
       "      <td>-0.132323</td>\n",
       "      <td>-0.218714</td>\n",
       "      <td>-0.135376</td>\n",
       "      <td>-0.061556</td>\n",
       "      <td>0.025155</td>\n",
       "    </tr>\n",
       "    <tr>\n",
       "      <th>person_emp_length</th>\n",
       "      <td>0.168988</td>\n",
       "      <td>0.137016</td>\n",
       "      <td>0.233845</td>\n",
       "      <td>1.000000</td>\n",
       "      <td>0.017365</td>\n",
       "      <td>-0.046959</td>\n",
       "      <td>0.111694</td>\n",
       "      <td>-0.052793</td>\n",
       "      <td>-0.085630</td>\n",
       "      <td>-0.058584</td>\n",
       "      <td>-0.029034</td>\n",
       "      <td>0.147934</td>\n",
       "    </tr>\n",
       "    <tr>\n",
       "      <th>loan_intent</th>\n",
       "      <td>0.027972</td>\n",
       "      <td>0.016113</td>\n",
       "      <td>0.017682</td>\n",
       "      <td>0.017365</td>\n",
       "      <td>1.000000</td>\n",
       "      <td>0.013898</td>\n",
       "      <td>0.018725</td>\n",
       "      <td>0.006006</td>\n",
       "      <td>0.065381</td>\n",
       "      <td>-0.001939</td>\n",
       "      <td>0.010508</td>\n",
       "      <td>0.016905</td>\n",
       "    </tr>\n",
       "    <tr>\n",
       "      <th>loan_grade</th>\n",
       "      <td>0.014779</td>\n",
       "      <td>-0.001022</td>\n",
       "      <td>-0.119541</td>\n",
       "      <td>-0.046959</td>\n",
       "      <td>0.013898</td>\n",
       "      <td>1.000000</td>\n",
       "      <td>0.145799</td>\n",
       "      <td>0.889929</td>\n",
       "      <td>0.373080</td>\n",
       "      <td>0.123021</td>\n",
       "      <td>0.537054</td>\n",
       "      <td>0.015069</td>\n",
       "    </tr>\n",
       "    <tr>\n",
       "      <th>loan_amnt</th>\n",
       "      <td>0.052195</td>\n",
       "      <td>0.266820</td>\n",
       "      <td>0.128938</td>\n",
       "      <td>0.111694</td>\n",
       "      <td>0.018725</td>\n",
       "      <td>0.145799</td>\n",
       "      <td>1.000000</td>\n",
       "      <td>0.139483</td>\n",
       "      <td>0.105376</td>\n",
       "      <td>0.572612</td>\n",
       "      <td>0.039081</td>\n",
       "      <td>0.041967</td>\n",
       "    </tr>\n",
       "    <tr>\n",
       "      <th>loan_int_rate</th>\n",
       "      <td>0.012065</td>\n",
       "      <td>0.000746</td>\n",
       "      <td>-0.132323</td>\n",
       "      <td>-0.052793</td>\n",
       "      <td>0.006006</td>\n",
       "      <td>0.889929</td>\n",
       "      <td>0.139483</td>\n",
       "      <td>1.000000</td>\n",
       "      <td>0.319360</td>\n",
       "      <td>0.114514</td>\n",
       "      <td>0.477146</td>\n",
       "      <td>0.015762</td>\n",
       "    </tr>\n",
       "    <tr>\n",
       "      <th>loan_status</th>\n",
       "      <td>-0.020128</td>\n",
       "      <td>-0.144449</td>\n",
       "      <td>-0.218714</td>\n",
       "      <td>-0.085630</td>\n",
       "      <td>0.065381</td>\n",
       "      <td>0.373080</td>\n",
       "      <td>0.105376</td>\n",
       "      <td>0.319360</td>\n",
       "      <td>1.000000</td>\n",
       "      <td>0.379366</td>\n",
       "      <td>0.179141</td>\n",
       "      <td>-0.015529</td>\n",
       "    </tr>\n",
       "    <tr>\n",
       "      <th>loan_percent_income</th>\n",
       "      <td>-0.041733</td>\n",
       "      <td>-0.254471</td>\n",
       "      <td>-0.135376</td>\n",
       "      <td>-0.058584</td>\n",
       "      <td>-0.001939</td>\n",
       "      <td>0.123021</td>\n",
       "      <td>0.572612</td>\n",
       "      <td>0.114514</td>\n",
       "      <td>0.379366</td>\n",
       "      <td>1.000000</td>\n",
       "      <td>0.035910</td>\n",
       "      <td>-0.031690</td>\n",
       "    </tr>\n",
       "    <tr>\n",
       "      <th>cb_person_default_on_file</th>\n",
       "      <td>0.007850</td>\n",
       "      <td>-0.003613</td>\n",
       "      <td>-0.061556</td>\n",
       "      <td>-0.029034</td>\n",
       "      <td>0.010508</td>\n",
       "      <td>0.537054</td>\n",
       "      <td>0.039081</td>\n",
       "      <td>0.477146</td>\n",
       "      <td>0.179141</td>\n",
       "      <td>0.035910</td>\n",
       "      <td>1.000000</td>\n",
       "      <td>0.004564</td>\n",
       "    </tr>\n",
       "    <tr>\n",
       "      <th>cb_person_cred_hist_length</th>\n",
       "      <td>0.878456</td>\n",
       "      <td>0.117987</td>\n",
       "      <td>0.025155</td>\n",
       "      <td>0.147934</td>\n",
       "      <td>0.016905</td>\n",
       "      <td>0.015069</td>\n",
       "      <td>0.041967</td>\n",
       "      <td>0.015762</td>\n",
       "      <td>-0.015529</td>\n",
       "      <td>-0.031690</td>\n",
       "      <td>0.004564</td>\n",
       "      <td>1.000000</td>\n",
       "    </tr>\n",
       "  </tbody>\n",
       "</table>\n",
       "</div>"
      ],
      "text/plain": [
       "                            person_age  person_income  person_home_ownership  \\\n",
       "person_age                    1.000000       0.141424               0.033113   \n",
       "person_income                 0.141424       1.000000               0.199315   \n",
       "person_home_ownership         0.033113       0.199315               1.000000   \n",
       "person_emp_length             0.168988       0.137016               0.233845   \n",
       "loan_intent                   0.027972       0.016113               0.017682   \n",
       "loan_grade                    0.014779      -0.001022              -0.119541   \n",
       "loan_amnt                     0.052195       0.266820               0.128938   \n",
       "loan_int_rate                 0.012065       0.000746              -0.132323   \n",
       "loan_status                  -0.020128      -0.144449              -0.218714   \n",
       "loan_percent_income          -0.041733      -0.254471              -0.135376   \n",
       "cb_person_default_on_file     0.007850      -0.003613              -0.061556   \n",
       "cb_person_cred_hist_length    0.878456       0.117987               0.025155   \n",
       "\n",
       "                            person_emp_length  loan_intent  loan_grade  \\\n",
       "person_age                           0.168988     0.027972    0.014779   \n",
       "person_income                        0.137016     0.016113   -0.001022   \n",
       "person_home_ownership                0.233845     0.017682   -0.119541   \n",
       "person_emp_length                    1.000000     0.017365   -0.046959   \n",
       "loan_intent                          0.017365     1.000000    0.013898   \n",
       "loan_grade                          -0.046959     0.013898    1.000000   \n",
       "loan_amnt                            0.111694     0.018725    0.145799   \n",
       "loan_int_rate                       -0.052793     0.006006    0.889929   \n",
       "loan_status                         -0.085630     0.065381    0.373080   \n",
       "loan_percent_income                 -0.058584    -0.001939    0.123021   \n",
       "cb_person_default_on_file           -0.029034     0.010508    0.537054   \n",
       "cb_person_cred_hist_length           0.147934     0.016905    0.015069   \n",
       "\n",
       "                            loan_amnt  loan_int_rate  loan_status  \\\n",
       "person_age                   0.052195       0.012065    -0.020128   \n",
       "person_income                0.266820       0.000746    -0.144449   \n",
       "person_home_ownership        0.128938      -0.132323    -0.218714   \n",
       "person_emp_length            0.111694      -0.052793    -0.085630   \n",
       "loan_intent                  0.018725       0.006006     0.065381   \n",
       "loan_grade                   0.145799       0.889929     0.373080   \n",
       "loan_amnt                    1.000000       0.139483     0.105376   \n",
       "loan_int_rate                0.139483       1.000000     0.319360   \n",
       "loan_status                  0.105376       0.319360     1.000000   \n",
       "loan_percent_income          0.572612       0.114514     0.379366   \n",
       "cb_person_default_on_file    0.039081       0.477146     0.179141   \n",
       "cb_person_cred_hist_length   0.041967       0.015762    -0.015529   \n",
       "\n",
       "                            loan_percent_income  cb_person_default_on_file  \\\n",
       "person_age                            -0.041733                   0.007850   \n",
       "person_income                         -0.254471                  -0.003613   \n",
       "person_home_ownership                 -0.135376                  -0.061556   \n",
       "person_emp_length                     -0.058584                  -0.029034   \n",
       "loan_intent                           -0.001939                   0.010508   \n",
       "loan_grade                             0.123021                   0.537054   \n",
       "loan_amnt                              0.572612                   0.039081   \n",
       "loan_int_rate                          0.114514                   0.477146   \n",
       "loan_status                            0.379366                   0.179141   \n",
       "loan_percent_income                    1.000000                   0.035910   \n",
       "cb_person_default_on_file              0.035910                   1.000000   \n",
       "cb_person_cred_hist_length            -0.031690                   0.004564   \n",
       "\n",
       "                            cb_person_cred_hist_length  \n",
       "person_age                                    0.878456  \n",
       "person_income                                 0.117987  \n",
       "person_home_ownership                         0.025155  \n",
       "person_emp_length                             0.147934  \n",
       "loan_intent                                   0.016905  \n",
       "loan_grade                                    0.015069  \n",
       "loan_amnt                                     0.041967  \n",
       "loan_int_rate                                 0.015762  \n",
       "loan_status                                  -0.015529  \n",
       "loan_percent_income                          -0.031690  \n",
       "cb_person_default_on_file                     0.004564  \n",
       "cb_person_cred_hist_length                    1.000000  "
      ]
     },
     "execution_count": 36,
     "metadata": {},
     "output_type": "execute_result"
    }
   ],
   "source": [
    "dfrisk.corr()"
   ]
  },
  {
   "cell_type": "code",
   "execution_count": 37,
   "id": "50840ae2-126c-4a33-b215-a2a49d61685d",
   "metadata": {},
   "outputs": [
    {
     "data": {
      "text/plain": [
       "person_age                    10\n",
       "person_income                  0\n",
       "person_home_ownership          0\n",
       "person_emp_length              0\n",
       "loan_intent                    0\n",
       "loan_grade                     0\n",
       "loan_amnt                      0\n",
       "loan_int_rate                  0\n",
       "loan_status                    0\n",
       "loan_percent_income            0\n",
       "cb_person_default_on_file      0\n",
       "cb_person_cred_hist_length     0\n",
       "dtype: int64"
      ]
     },
     "execution_count": 37,
     "metadata": {},
     "output_type": "execute_result"
    }
   ],
   "source": [
    "dfrisk.isna().sum()"
   ]
  },
  {
   "cell_type": "markdown",
   "id": "69a8bfd4-8922-4598-b525-2278f168747d",
   "metadata": {},
   "source": [
    "Fill the NaN values with the Median Value of the person_age column"
   ]
  },
  {
   "cell_type": "code",
   "execution_count": 38,
   "id": "940207b9-4c8a-432c-bf36-e59e597b673a",
   "metadata": {},
   "outputs": [],
   "source": [
    "dfrisk['person_age'].fillna(dfrisk['person_age'].median(), inplace=True)"
   ]
  },
  {
   "cell_type": "code",
   "execution_count": 39,
   "id": "c2720e57-8256-47c2-a816-2c976322f50f",
   "metadata": {},
   "outputs": [
    {
     "data": {
      "text/plain": [
       "person_age                    0\n",
       "person_income                 0\n",
       "person_home_ownership         0\n",
       "person_emp_length             0\n",
       "loan_intent                   0\n",
       "loan_grade                    0\n",
       "loan_amnt                     0\n",
       "loan_int_rate                 0\n",
       "loan_status                   0\n",
       "loan_percent_income           0\n",
       "cb_person_default_on_file     0\n",
       "cb_person_cred_hist_length    0\n",
       "dtype: int64"
      ]
     },
     "execution_count": 39,
     "metadata": {},
     "output_type": "execute_result"
    }
   ],
   "source": [
    "dfrisk.isna().sum()"
   ]
  },
  {
   "cell_type": "code",
   "execution_count": 40,
   "id": "273bbd85-e6e7-47ee-965b-97d107f3939c",
   "metadata": {},
   "outputs": [],
   "source": [
    "X = dfrisk.drop(['loan_status'], axis=1)\n",
    "y = dfrisk['loan_status']"
   ]
  },
  {
   "cell_type": "markdown",
   "id": "8de0a537-52a3-480c-97f7-671a5c23ca76",
   "metadata": {},
   "source": [
    "Split the dataset >> dfrisk"
   ]
  },
  {
   "cell_type": "code",
   "execution_count": 41,
   "id": "c7d4728e-9b2f-4c42-8359-057fd117f0b4",
   "metadata": {},
   "outputs": [],
   "source": [
    "X_train, X_test, y_train, y_test = train_test_split(X, y, test_size=0.2, random_state=42)"
   ]
  },
  {
   "cell_type": "markdown",
   "id": "9dfd4436-b433-4ae6-9049-5b0c1460dafb",
   "metadata": {},
   "source": [
    "Perform standardization"
   ]
  },
  {
   "cell_type": "code",
   "execution_count": 42,
   "id": "1239e929-1486-4535-ad29-294a3cb58a19",
   "metadata": {},
   "outputs": [
    {
     "data": {
      "text/plain": [
       "array([[ 5.8452654 , -0.31717677, -0.9521391 , -0.69239938, -1.39203199,\n",
       "         0.6746644 , -0.76018887,  0.02663141, -0.65843875,  2.17447733,\n",
       "         4.48497655],\n",
       "       [-0.28026618, -0.63165151,  0.08886738, -1.19395427,  1.57848724,\n",
       "         2.39492002, -0.17434095,  1.77173414,  1.49131123, -0.45988063,\n",
       "        -0.69475502],\n",
       "       [-0.76386077, -0.23855808,  1.12987386, -0.44162193, -1.39203199,\n",
       "         0.6746644 ,  1.01318862,  0.68430072,  1.30437645,  2.17447733,\n",
       "        -0.69475502],\n",
       "       [-0.92505897, -0.1598765 ,  1.12987386,  0.31071041, -0.2038243 ,\n",
       "        -1.04559122, -0.57018414, -1.01847675, -0.56497136, -0.45988063,\n",
       "        -0.44810114],\n",
       "       [-0.60266257,  0.20170655, -0.9521391 , -0.44162193, -1.39203199,\n",
       "         0.6746644 , -0.41184686,  0.49872077, -0.75190614, -0.45988063,\n",
       "        -0.69475502]])"
      ]
     },
     "execution_count": 42,
     "metadata": {},
     "output_type": "execute_result"
    }
   ],
   "source": [
    "scaler = StandardScaler()\n",
    "X_train_scaled = scaler.fit_transform(X_train)\n",
    "X_test_scaled = scaler.transform(X_test)\n",
    "X_train_scaled[:5]"
   ]
  },
  {
   "cell_type": "markdown",
   "id": "2f7beda6-8e12-4adc-8c4b-0c37a74614b9",
   "metadata": {},
   "source": [
    "Instantiate the LogisticRegression model"
   ]
  },
  {
   "cell_type": "code",
   "execution_count": 43,
   "id": "38ce7480-7e22-4f02-8614-fedc13c634fe",
   "metadata": {},
   "outputs": [],
   "source": [
    "model = LogisticRegression(max_iter=1000)"
   ]
  },
  {
   "cell_type": "markdown",
   "id": "3883f72b-0713-4d9b-a821-1c815196fffd",
   "metadata": {},
   "source": [
    "Fit the model"
   ]
  },
  {
   "cell_type": "code",
   "execution_count": 44,
   "id": "634edf69-7439-4586-9880-ad6cdc93aed5",
   "metadata": {},
   "outputs": [
    {
     "data": {
      "text/html": [
       "<style>#sk-container-id-1 {color: black;background-color: white;}#sk-container-id-1 pre{padding: 0;}#sk-container-id-1 div.sk-toggleable {background-color: white;}#sk-container-id-1 label.sk-toggleable__label {cursor: pointer;display: block;width: 100%;margin-bottom: 0;padding: 0.3em;box-sizing: border-box;text-align: center;}#sk-container-id-1 label.sk-toggleable__label-arrow:before {content: \"▸\";float: left;margin-right: 0.25em;color: #696969;}#sk-container-id-1 label.sk-toggleable__label-arrow:hover:before {color: black;}#sk-container-id-1 div.sk-estimator:hover label.sk-toggleable__label-arrow:before {color: black;}#sk-container-id-1 div.sk-toggleable__content {max-height: 0;max-width: 0;overflow: hidden;text-align: left;background-color: #f0f8ff;}#sk-container-id-1 div.sk-toggleable__content pre {margin: 0.2em;color: black;border-radius: 0.25em;background-color: #f0f8ff;}#sk-container-id-1 input.sk-toggleable__control:checked~div.sk-toggleable__content {max-height: 200px;max-width: 100%;overflow: auto;}#sk-container-id-1 input.sk-toggleable__control:checked~label.sk-toggleable__label-arrow:before {content: \"▾\";}#sk-container-id-1 div.sk-estimator input.sk-toggleable__control:checked~label.sk-toggleable__label {background-color: #d4ebff;}#sk-container-id-1 div.sk-label input.sk-toggleable__control:checked~label.sk-toggleable__label {background-color: #d4ebff;}#sk-container-id-1 input.sk-hidden--visually {border: 0;clip: rect(1px 1px 1px 1px);clip: rect(1px, 1px, 1px, 1px);height: 1px;margin: -1px;overflow: hidden;padding: 0;position: absolute;width: 1px;}#sk-container-id-1 div.sk-estimator {font-family: monospace;background-color: #f0f8ff;border: 1px dotted black;border-radius: 0.25em;box-sizing: border-box;margin-bottom: 0.5em;}#sk-container-id-1 div.sk-estimator:hover {background-color: #d4ebff;}#sk-container-id-1 div.sk-parallel-item::after {content: \"\";width: 100%;border-bottom: 1px solid gray;flex-grow: 1;}#sk-container-id-1 div.sk-label:hover label.sk-toggleable__label {background-color: #d4ebff;}#sk-container-id-1 div.sk-serial::before {content: \"\";position: absolute;border-left: 1px solid gray;box-sizing: border-box;top: 0;bottom: 0;left: 50%;z-index: 0;}#sk-container-id-1 div.sk-serial {display: flex;flex-direction: column;align-items: center;background-color: white;padding-right: 0.2em;padding-left: 0.2em;position: relative;}#sk-container-id-1 div.sk-item {position: relative;z-index: 1;}#sk-container-id-1 div.sk-parallel {display: flex;align-items: stretch;justify-content: center;background-color: white;position: relative;}#sk-container-id-1 div.sk-item::before, #sk-container-id-1 div.sk-parallel-item::before {content: \"\";position: absolute;border-left: 1px solid gray;box-sizing: border-box;top: 0;bottom: 0;left: 50%;z-index: -1;}#sk-container-id-1 div.sk-parallel-item {display: flex;flex-direction: column;z-index: 1;position: relative;background-color: white;}#sk-container-id-1 div.sk-parallel-item:first-child::after {align-self: flex-end;width: 50%;}#sk-container-id-1 div.sk-parallel-item:last-child::after {align-self: flex-start;width: 50%;}#sk-container-id-1 div.sk-parallel-item:only-child::after {width: 0;}#sk-container-id-1 div.sk-dashed-wrapped {border: 1px dashed gray;margin: 0 0.4em 0.5em 0.4em;box-sizing: border-box;padding-bottom: 0.4em;background-color: white;}#sk-container-id-1 div.sk-label label {font-family: monospace;font-weight: bold;display: inline-block;line-height: 1.2em;}#sk-container-id-1 div.sk-label-container {text-align: center;}#sk-container-id-1 div.sk-container {/* jupyter's `normalize.less` sets `[hidden] { display: none; }` but bootstrap.min.css set `[hidden] { display: none !important; }` so we also need the `!important` here to be able to override the default hidden behavior on the sphinx rendered scikit-learn.org. See: https://github.com/scikit-learn/scikit-learn/issues/21755 */display: inline-block !important;position: relative;}#sk-container-id-1 div.sk-text-repr-fallback {display: none;}</style><div id=\"sk-container-id-1\" class=\"sk-top-container\"><div class=\"sk-text-repr-fallback\"><pre>LogisticRegression(max_iter=1000)</pre><b>In a Jupyter environment, please rerun this cell to show the HTML representation or trust the notebook. <br />On GitHub, the HTML representation is unable to render, please try loading this page with nbviewer.org.</b></div><div class=\"sk-container\" hidden><div class=\"sk-item\"><div class=\"sk-estimator sk-toggleable\"><input class=\"sk-toggleable__control sk-hidden--visually\" id=\"sk-estimator-id-1\" type=\"checkbox\" checked><label for=\"sk-estimator-id-1\" class=\"sk-toggleable__label sk-toggleable__label-arrow\">LogisticRegression</label><div class=\"sk-toggleable__content\"><pre>LogisticRegression(max_iter=1000)</pre></div></div></div></div></div>"
      ],
      "text/plain": [
       "LogisticRegression(max_iter=1000)"
      ]
     },
     "execution_count": 44,
     "metadata": {},
     "output_type": "execute_result"
    }
   ],
   "source": [
    "model.fit(X_train_scaled, y_train)"
   ]
  },
  {
   "cell_type": "markdown",
   "id": "65d5a3a6-537f-4547-8822-b6bf18848962",
   "metadata": {},
   "source": [
    "Predict the model on the test set"
   ]
  },
  {
   "cell_type": "code",
   "execution_count": 45,
   "id": "cbd0dabf-c15f-4b41-823a-8c5b82b88762",
   "metadata": {},
   "outputs": [],
   "source": [
    "y_pred = model.predict(X_test_scaled)"
   ]
  },
  {
   "cell_type": "code",
   "execution_count": 46,
   "id": "773fae99-2074-4711-8e81-8d0a0143ac3d",
   "metadata": {},
   "outputs": [
    {
     "data": {
      "text/plain": [
       "array([1, 0, 0, ..., 0, 0, 0], dtype=int64)"
      ]
     },
     "execution_count": 46,
     "metadata": {},
     "output_type": "execute_result"
    }
   ],
   "source": [
    "y_pred"
   ]
  },
  {
   "cell_type": "code",
   "execution_count": 47,
   "id": "4ad37417-7bbe-496c-b761-8843f9f02c74",
   "metadata": {},
   "outputs": [
    {
     "data": {
      "text/plain": [
       "14668    0\n",
       "24614    0\n",
       "11096    0\n",
       "10424    1\n",
       "26007    1\n",
       "        ..\n",
       "31330    0\n",
       "2862     0\n",
       "14754    0\n",
       "14170    0\n",
       "24385    0\n",
       "Name: loan_status, Length: 6517, dtype: int64"
      ]
     },
     "execution_count": 47,
     "metadata": {},
     "output_type": "execute_result"
    }
   ],
   "source": [
    "y_test"
   ]
  },
  {
   "cell_type": "markdown",
   "id": "33444182-1f3f-4719-8cb3-dd06fbb37b3e",
   "metadata": {},
   "source": [
    "Evaluate model performance"
   ]
  },
  {
   "cell_type": "code",
   "execution_count": 48,
   "id": "eddf3b9c-b9e0-4620-82fb-4262de94c449",
   "metadata": {},
   "outputs": [
    {
     "name": "stdout",
     "output_type": "stream",
     "text": [
      "The LogisticRegression Model performance Accuracy => 0.84\n"
     ]
    }
   ],
   "source": [
    "\n",
    "accuracy = accuracy_score(y_test, y_pred)\n",
    "print(f\"The LogisticRegression Model performance Accuracy => {round(accuracy, 2)}\")"
   ]
  },
  {
   "cell_type": "markdown",
   "id": "be202929-6303-4f51-8cb0-06d36d136bba",
   "metadata": {},
   "source": [
    "Let's take a look at other Evaluation Metrics"
   ]
  },
  {
   "cell_type": "code",
   "execution_count": 49,
   "id": "bf36a8bc-b9ba-451b-9e27-e2693b686407",
   "metadata": {},
   "outputs": [
    {
     "name": "stdout",
     "output_type": "stream",
     "text": [
      "Classification Report for LogisticRegression \n",
      "\n",
      "              precision    recall  f1-score   support\n",
      "\n",
      "           0       0.86      0.95      0.90      5072\n",
      "           1       0.72      0.47      0.56      1445\n",
      "\n",
      "    accuracy                           0.84      6517\n",
      "   macro avg       0.79      0.71      0.73      6517\n",
      "weighted avg       0.83      0.84      0.83      6517\n",
      "\n"
     ]
    }
   ],
   "source": [
    "logisticRegression_report = classification_report(y_test, y_pred)\n",
    "print(\"Classification Report for LogisticRegression \\n\")\n",
    "print(f\"{logisticRegression_report}\")"
   ]
  },
  {
   "cell_type": "code",
   "execution_count": 50,
   "id": "de67aca9-8d30-4d1e-8ce0-528721215ec4",
   "metadata": {},
   "outputs": [],
   "source": [
    "mse = mean_squared_error(y_test, y_pred)\n",
    "mae = mean_absolute_error(y_test, y_pred)\n",
    "r_square = r2_score(y_test, y_pred)"
   ]
  },
  {
   "cell_type": "code",
   "execution_count": 51,
   "id": "8107cc10-4bce-42b9-a395-dd55b5cb53eb",
   "metadata": {},
   "outputs": [
    {
     "name": "stdout",
     "output_type": "stream",
     "text": [
      "The LogisticRegression Model MSE => 0.16\n",
      "The LogisticRegression Model MAE => 0.16\n",
      "The LogisticRegression Model R-Square => 0.08\n"
     ]
    }
   ],
   "source": [
    "print(f\"The LogisticRegression Model MSE => {round(mse, 2)}\")\n",
    "print(f\"The LogisticRegression Model MAE => {round(mae, 2)}\")\n",
    "print(f\"The LogisticRegression Model R-Square => {round(r_square, 2)}\")"
   ]
  },
  {
   "cell_type": "markdown",
   "id": "1689744c-1ef5-4ab0-90ca-067212f2e930",
   "metadata": {},
   "source": [
    "Save the LogisticRegression model"
   ]
  },
  {
   "cell_type": "code",
   "execution_count": 52,
   "id": "490f7c97-262e-41ad-a5ec-f2579e3d0de7",
   "metadata": {},
   "outputs": [
    {
     "data": {
      "text/plain": [
       "['C:/Users/PC/Documents/sola/others/Telegram Desktop/logistic_regression_model.pkl']"
      ]
     },
     "execution_count": 52,
     "metadata": {},
     "output_type": "execute_result"
    }
   ],
   "source": [
    "import joblib\n",
    "\n",
    "\n",
    "joblib.dump(model, 'C:/Users/PC/Documents/sola/others/Telegram Desktop/logistic_regression_model.pkl')"
   ]
  },
  {
   "cell_type": "markdown",
   "id": "5f2a7b0a-cb66-4fda-8442-f1d8583c9d0b",
   "metadata": {},
   "source": [
    "# - - - End of LogisticRegression - - -"
   ]
  },
  {
   "cell_type": "markdown",
   "id": "7774f556-3721-4e12-9441-4e4beb666eb8",
   "metadata": {},
   "source": [
    "# XGBoost Regression 'XRegressor'"
   ]
  },
  {
   "cell_type": "markdown",
   "id": "8a700e75-2919-4293-84a5-7efa1d9241e4",
   "metadata": {},
   "source": [
    "Define features and target"
   ]
  },
  {
   "cell_type": "code",
   "execution_count": 53,
   "id": "8d7558c7-976a-47b6-98c9-a5f18200c0e9",
   "metadata": {},
   "outputs": [],
   "source": [
    "\n",
    "X = dfrisk.drop(columns=['loan_amnt'])\n",
    "y = dfrisk['loan_amnt']"
   ]
  },
  {
   "cell_type": "markdown",
   "id": "144de375-e1c9-4e9f-a7cf-0b1a2dd1bd87",
   "metadata": {},
   "source": [
    "Split the dataset >> dfrisk"
   ]
  },
  {
   "cell_type": "code",
   "execution_count": 54,
   "id": "20e33fa5-a334-478a-9d33-391f9bfc020c",
   "metadata": {},
   "outputs": [],
   "source": [
    "X_train, X_test, y_train, y_test = train_test_split(X, y, test_size=0.2, random_state=42)"
   ]
  },
  {
   "cell_type": "markdown",
   "id": "c5a5eb5f-4079-4b5f-8c80-72feffc40b42",
   "metadata": {},
   "source": [
    "Perform standardization"
   ]
  },
  {
   "cell_type": "code",
   "execution_count": 55,
   "id": "78b0d07f-3b73-4c1c-97a4-4da6165a2ede",
   "metadata": {},
   "outputs": [
    {
     "data": {
      "text/plain": [
       "array([[ 5.8452654 , -0.31717677, -0.9521391 , -0.69239938, -1.39203199,\n",
       "         0.6746644 ,  0.02663141, -0.52686282, -0.65843875,  2.17447733,\n",
       "         4.48497655],\n",
       "       [-0.28026618, -0.63165151,  0.08886738, -1.19395427,  1.57848724,\n",
       "         2.39492002,  1.77173414,  1.89802727,  1.49131123, -0.45988063,\n",
       "        -0.69475502],\n",
       "       [-0.76386077, -0.23855808,  1.12987386, -0.44162193, -1.39203199,\n",
       "         0.6746644 ,  0.68430072, -0.52686282,  1.30437645,  2.17447733,\n",
       "        -0.69475502],\n",
       "       [-0.92505897, -0.1598765 ,  1.12987386,  0.31071041, -0.2038243 ,\n",
       "        -1.04559122, -1.01847675, -0.52686282, -0.56497136, -0.45988063,\n",
       "        -0.44810114],\n",
       "       [-0.60266257,  0.20170655, -0.9521391 , -0.44162193, -1.39203199,\n",
       "         0.6746644 ,  0.49872077, -0.52686282, -0.75190614, -0.45988063,\n",
       "        -0.69475502]])"
      ]
     },
     "execution_count": 55,
     "metadata": {},
     "output_type": "execute_result"
    }
   ],
   "source": [
    "\n",
    "scaler = StandardScaler()\n",
    "X_train_scaled = scaler.fit_transform(X_train)\n",
    "X_test_scaled = scaler.transform(X_test)\n",
    "X_train_scaled[:5]"
   ]
  },
  {
   "cell_type": "markdown",
   "id": "a41c4600-1e9e-43b7-864f-aa75c262a9e0",
   "metadata": {},
   "source": [
    "Import XGBoost Algorithm"
   ]
  },
  {
   "cell_type": "code",
   "execution_count": 56,
   "id": "81d7af93-0646-4153-818d-88875f0a5a47",
   "metadata": {},
   "outputs": [],
   "source": [
    "import xgboost as xgb"
   ]
  },
  {
   "cell_type": "markdown",
   "id": "b2c39c97-8197-43a2-9bce-b88e26f0c839",
   "metadata": {},
   "source": [
    "Initialize and train the XGBoost regressor model\n"
   ]
  },
  {
   "cell_type": "code",
   "execution_count": 57,
   "id": "dd30a78e-e4db-4046-8a30-6c686c4d6282",
   "metadata": {},
   "outputs": [
    {
     "data": {
      "text/html": [
       "<style>#sk-container-id-2 {color: black;background-color: white;}#sk-container-id-2 pre{padding: 0;}#sk-container-id-2 div.sk-toggleable {background-color: white;}#sk-container-id-2 label.sk-toggleable__label {cursor: pointer;display: block;width: 100%;margin-bottom: 0;padding: 0.3em;box-sizing: border-box;text-align: center;}#sk-container-id-2 label.sk-toggleable__label-arrow:before {content: \"▸\";float: left;margin-right: 0.25em;color: #696969;}#sk-container-id-2 label.sk-toggleable__label-arrow:hover:before {color: black;}#sk-container-id-2 div.sk-estimator:hover label.sk-toggleable__label-arrow:before {color: black;}#sk-container-id-2 div.sk-toggleable__content {max-height: 0;max-width: 0;overflow: hidden;text-align: left;background-color: #f0f8ff;}#sk-container-id-2 div.sk-toggleable__content pre {margin: 0.2em;color: black;border-radius: 0.25em;background-color: #f0f8ff;}#sk-container-id-2 input.sk-toggleable__control:checked~div.sk-toggleable__content {max-height: 200px;max-width: 100%;overflow: auto;}#sk-container-id-2 input.sk-toggleable__control:checked~label.sk-toggleable__label-arrow:before {content: \"▾\";}#sk-container-id-2 div.sk-estimator input.sk-toggleable__control:checked~label.sk-toggleable__label {background-color: #d4ebff;}#sk-container-id-2 div.sk-label input.sk-toggleable__control:checked~label.sk-toggleable__label {background-color: #d4ebff;}#sk-container-id-2 input.sk-hidden--visually {border: 0;clip: rect(1px 1px 1px 1px);clip: rect(1px, 1px, 1px, 1px);height: 1px;margin: -1px;overflow: hidden;padding: 0;position: absolute;width: 1px;}#sk-container-id-2 div.sk-estimator {font-family: monospace;background-color: #f0f8ff;border: 1px dotted black;border-radius: 0.25em;box-sizing: border-box;margin-bottom: 0.5em;}#sk-container-id-2 div.sk-estimator:hover {background-color: #d4ebff;}#sk-container-id-2 div.sk-parallel-item::after {content: \"\";width: 100%;border-bottom: 1px solid gray;flex-grow: 1;}#sk-container-id-2 div.sk-label:hover label.sk-toggleable__label {background-color: #d4ebff;}#sk-container-id-2 div.sk-serial::before {content: \"\";position: absolute;border-left: 1px solid gray;box-sizing: border-box;top: 0;bottom: 0;left: 50%;z-index: 0;}#sk-container-id-2 div.sk-serial {display: flex;flex-direction: column;align-items: center;background-color: white;padding-right: 0.2em;padding-left: 0.2em;position: relative;}#sk-container-id-2 div.sk-item {position: relative;z-index: 1;}#sk-container-id-2 div.sk-parallel {display: flex;align-items: stretch;justify-content: center;background-color: white;position: relative;}#sk-container-id-2 div.sk-item::before, #sk-container-id-2 div.sk-parallel-item::before {content: \"\";position: absolute;border-left: 1px solid gray;box-sizing: border-box;top: 0;bottom: 0;left: 50%;z-index: -1;}#sk-container-id-2 div.sk-parallel-item {display: flex;flex-direction: column;z-index: 1;position: relative;background-color: white;}#sk-container-id-2 div.sk-parallel-item:first-child::after {align-self: flex-end;width: 50%;}#sk-container-id-2 div.sk-parallel-item:last-child::after {align-self: flex-start;width: 50%;}#sk-container-id-2 div.sk-parallel-item:only-child::after {width: 0;}#sk-container-id-2 div.sk-dashed-wrapped {border: 1px dashed gray;margin: 0 0.4em 0.5em 0.4em;box-sizing: border-box;padding-bottom: 0.4em;background-color: white;}#sk-container-id-2 div.sk-label label {font-family: monospace;font-weight: bold;display: inline-block;line-height: 1.2em;}#sk-container-id-2 div.sk-label-container {text-align: center;}#sk-container-id-2 div.sk-container {/* jupyter's `normalize.less` sets `[hidden] { display: none; }` but bootstrap.min.css set `[hidden] { display: none !important; }` so we also need the `!important` here to be able to override the default hidden behavior on the sphinx rendered scikit-learn.org. See: https://github.com/scikit-learn/scikit-learn/issues/21755 */display: inline-block !important;position: relative;}#sk-container-id-2 div.sk-text-repr-fallback {display: none;}</style><div id=\"sk-container-id-2\" class=\"sk-top-container\"><div class=\"sk-text-repr-fallback\"><pre>XGBRegressor(base_score=None, booster=None, callbacks=None,\n",
       "             colsample_bylevel=None, colsample_bynode=None,\n",
       "             colsample_bytree=None, device=None, early_stopping_rounds=None,\n",
       "             enable_categorical=True, eval_metric=None, feature_types=None,\n",
       "             gamma=None, grow_policy=None, importance_type=None,\n",
       "             interaction_constraints=None, learning_rate=0.1, max_bin=None,\n",
       "             max_cat_threshold=None, max_cat_to_onehot=None,\n",
       "             max_delta_step=None, max_depth=5, max_leaves=None,\n",
       "             min_child_weight=None, missing=nan, monotone_constraints=None,\n",
       "             multi_strategy=None, n_estimators=100, n_jobs=None,\n",
       "             num_parallel_tree=None, random_state=42, ...)</pre><b>In a Jupyter environment, please rerun this cell to show the HTML representation or trust the notebook. <br />On GitHub, the HTML representation is unable to render, please try loading this page with nbviewer.org.</b></div><div class=\"sk-container\" hidden><div class=\"sk-item\"><div class=\"sk-estimator sk-toggleable\"><input class=\"sk-toggleable__control sk-hidden--visually\" id=\"sk-estimator-id-2\" type=\"checkbox\" checked><label for=\"sk-estimator-id-2\" class=\"sk-toggleable__label sk-toggleable__label-arrow\">XGBRegressor</label><div class=\"sk-toggleable__content\"><pre>XGBRegressor(base_score=None, booster=None, callbacks=None,\n",
       "             colsample_bylevel=None, colsample_bynode=None,\n",
       "             colsample_bytree=None, device=None, early_stopping_rounds=None,\n",
       "             enable_categorical=True, eval_metric=None, feature_types=None,\n",
       "             gamma=None, grow_policy=None, importance_type=None,\n",
       "             interaction_constraints=None, learning_rate=0.1, max_bin=None,\n",
       "             max_cat_threshold=None, max_cat_to_onehot=None,\n",
       "             max_delta_step=None, max_depth=5, max_leaves=None,\n",
       "             min_child_weight=None, missing=nan, monotone_constraints=None,\n",
       "             multi_strategy=None, n_estimators=100, n_jobs=None,\n",
       "             num_parallel_tree=None, random_state=42, ...)</pre></div></div></div></div></div>"
      ],
      "text/plain": [
       "XGBRegressor(base_score=None, booster=None, callbacks=None,\n",
       "             colsample_bylevel=None, colsample_bynode=None,\n",
       "             colsample_bytree=None, device=None, early_stopping_rounds=None,\n",
       "             enable_categorical=True, eval_metric=None, feature_types=None,\n",
       "             gamma=None, grow_policy=None, importance_type=None,\n",
       "             interaction_constraints=None, learning_rate=0.1, max_bin=None,\n",
       "             max_cat_threshold=None, max_cat_to_onehot=None,\n",
       "             max_delta_step=None, max_depth=5, max_leaves=None,\n",
       "             min_child_weight=None, missing=nan, monotone_constraints=None,\n",
       "             multi_strategy=None, n_estimators=100, n_jobs=None,\n",
       "             num_parallel_tree=None, random_state=42, ...)"
      ]
     },
     "execution_count": 57,
     "metadata": {},
     "output_type": "execute_result"
    }
   ],
   "source": [
    "xgb_regressor = xgb.XGBRegressor(enable_categorical=True, n_estimators=100, max_depth=5, learning_rate=0.1, random_state=42)\n",
    "xgb_regressor.fit(X_train_scaled, y_train)"
   ]
  },
  {
   "cell_type": "markdown",
   "id": "baf80cdc-bed2-4777-aef6-deacc68f50f0",
   "metadata": {},
   "source": [
    "Predict on the test set"
   ]
  },
  {
   "cell_type": "code",
   "execution_count": 58,
   "id": "ea57e8de-c948-4773-86be-345bc1eeeaa0",
   "metadata": {},
   "outputs": [],
   "source": [
    "y_predxgb = xgb_regressor.predict(X_test_scaled)"
   ]
  },
  {
   "cell_type": "code",
   "execution_count": 59,
   "id": "465daeb6-2a10-46d2-a6f6-80dbb18cfcbe",
   "metadata": {},
   "outputs": [
    {
     "data": {
      "text/plain": [
       "array([10331.591, 10265.318, 15647.186, ..., 10115.188,  6169.595,\n",
       "       25432.598], dtype=float32)"
      ]
     },
     "execution_count": 59,
     "metadata": {},
     "output_type": "execute_result"
    }
   ],
   "source": [
    "y_predxgb"
   ]
  },
  {
   "cell_type": "code",
   "execution_count": 60,
   "id": "38828456-9311-45cc-b9db-743f49d1d2f2",
   "metadata": {},
   "outputs": [
    {
     "data": {
      "text/plain": [
       "14668    10000\n",
       "24614    10000\n",
       "11096    16000\n",
       "10424    10000\n",
       "26007    13000\n",
       "         ...  \n",
       "31330     9925\n",
       "2862      3000\n",
       "14754    10000\n",
       "14170     6000\n",
       "24385    25000\n",
       "Name: loan_amnt, Length: 6517, dtype: int64"
      ]
     },
     "execution_count": 60,
     "metadata": {},
     "output_type": "execute_result"
    }
   ],
   "source": [
    "y_test"
   ]
  },
  {
   "cell_type": "markdown",
   "id": "e640ad93-c182-42b0-8e14-231af55509fe",
   "metadata": {},
   "source": [
    "Evaluate the model"
   ]
  },
  {
   "cell_type": "code",
   "execution_count": 61,
   "id": "12e58007-e903-414a-ad03-9f7ea6d22988",
   "metadata": {},
   "outputs": [
    {
     "name": "stdout",
     "output_type": "stream",
     "text": [
      "The Mean Squared Error of XRegressor Model is 168146.45510336247\n"
     ]
    }
   ],
   "source": [
    "mse = mean_squared_error(y_test, y_predxgb)\n",
    "print(f'The Mean Squared Error of XRegressor Model is {mse}')\n",
    "#The Mean Squared Error of the XRegressor Model is 164505.5387713405"
   ]
  },
  {
   "cell_type": "markdown",
   "id": "77a4874d-59df-40ea-81e3-8d7026f27d38",
   "metadata": {},
   "source": [
    "\n",
    "\n",
    "Another Evaluation"
   ]
  },
  {
   "cell_type": "code",
   "execution_count": 62,
   "id": "751d32ba-509c-4df4-8f14-afbc386c0adc",
   "metadata": {},
   "outputs": [
    {
     "name": "stdout",
     "output_type": "stream",
     "text": [
      "The Root Mean Squared Error of the XRegressor => 410.0566486515765\n"
     ]
    }
   ],
   "source": [
    "rmse = mse ** 0.5\n",
    "print(f'The Root Mean Squared Error of the XRegressor => {rmse}')\n",
    "#The Root Mean Squared Error of the XRegressor => 405.5928238656849"
   ]
  },
  {
   "cell_type": "markdown",
   "id": "6b19a0d1-375d-417d-bdad-5ea3410679c9",
   "metadata": {},
   "source": [
    "Save the XGBoost regressor model"
   ]
  },
  {
   "cell_type": "code",
   "execution_count": 67,
   "id": "f180a668-ca04-43a3-bdbb-bd3a6db76f1a",
   "metadata": {},
   "outputs": [
    {
     "data": {
      "text/plain": [
       "['C:/Users/PC/Documents/sola/others/Telegram Desktop/xgb_regressor_model.pkl']"
      ]
     },
     "execution_count": 67,
     "metadata": {},
     "output_type": "execute_result"
    }
   ],
   "source": [
    "\n",
    "joblib.dump(xgb_regressor, 'C:/Users/PC/Documents/sola/others/Telegram Desktop/xgb_regressor_model.pkl')"
   ]
  },
  {
   "cell_type": "markdown",
   "id": "1022b2e3-9bc1-4aaf-b6d9-d41f059130f4",
   "metadata": {},
   "source": [
    "# - - - End of XGBoost - - -"
   ]
  },
  {
   "cell_type": "code",
   "execution_count": null,
   "id": "8ad8b889-2164-4670-9ccb-c69cf37f1bd0",
   "metadata": {},
   "outputs": [],
   "source": []
  },
  {
   "cell_type": "code",
   "execution_count": null,
   "id": "add2dea7-2124-4a56-8f6e-b7dfe194fe10",
   "metadata": {},
   "outputs": [],
   "source": []
  }
 ],
 "metadata": {
  "kernelspec": {
   "display_name": "Python 3 (ipykernel)",
   "language": "python",
   "name": "python3"
  },
  "language_info": {
   "codemirror_mode": {
    "name": "ipython",
    "version": 3
   },
   "file_extension": ".py",
   "mimetype": "text/x-python",
   "name": "python",
   "nbconvert_exporter": "python",
   "pygments_lexer": "ipython3",
   "version": "3.11.7"
  }
 },
 "nbformat": 4,
 "nbformat_minor": 5
}
